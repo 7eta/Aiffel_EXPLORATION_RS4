{
 "cells": [
  {
   "cell_type": "markdown",
   "id": "d102aa35",
   "metadata": {},
   "source": [
    "````bash\n",
    "aiffel\n",
    "└── sentiment_classification\n",
    "    ├── project08.ipynb   <─ I am here\n",
    "    └── data\n",
    "        ├── ratings_test.txt\n",
    "        └── ratings_train.txt       \n",
    "````\n",
    "\n",
    "### 사용 라이브러리 버전\n",
    "```python\n",
    "pandas.__version__ : 1.3.3\n",
    "konlpy.__version__ : 0.5.2\n",
    "gensim.__version__ : 4.1.2\n",
    "```"
   ]
  },
  {
   "cell_type": "code",
   "execution_count": 1,
   "id": "d56291e8",
   "metadata": {
    "scrolled": false
   },
   "outputs": [
    {
     "data": {
      "text/html": [
       "<div>\n",
       "<style scoped>\n",
       "    .dataframe tbody tr th:only-of-type {\n",
       "        vertical-align: middle;\n",
       "    }\n",
       "\n",
       "    .dataframe tbody tr th {\n",
       "        vertical-align: top;\n",
       "    }\n",
       "\n",
       "    .dataframe thead th {\n",
       "        text-align: right;\n",
       "    }\n",
       "</style>\n",
       "<table border=\"1\" class=\"dataframe\">\n",
       "  <thead>\n",
       "    <tr style=\"text-align: right;\">\n",
       "      <th></th>\n",
       "      <th>id</th>\n",
       "      <th>document</th>\n",
       "      <th>label</th>\n",
       "    </tr>\n",
       "  </thead>\n",
       "  <tbody>\n",
       "    <tr>\n",
       "      <th>0</th>\n",
       "      <td>9976970</td>\n",
       "      <td>아 더빙.. 진짜 짜증나네요 목소리</td>\n",
       "      <td>0</td>\n",
       "    </tr>\n",
       "    <tr>\n",
       "      <th>1</th>\n",
       "      <td>3819312</td>\n",
       "      <td>흠...포스터보고 초딩영화줄....오버연기조차 가볍지 않구나</td>\n",
       "      <td>1</td>\n",
       "    </tr>\n",
       "    <tr>\n",
       "      <th>2</th>\n",
       "      <td>10265843</td>\n",
       "      <td>너무재밓었다그래서보는것을추천한다</td>\n",
       "      <td>0</td>\n",
       "    </tr>\n",
       "    <tr>\n",
       "      <th>3</th>\n",
       "      <td>9045019</td>\n",
       "      <td>교도소 이야기구먼 ..솔직히 재미는 없다..평점 조정</td>\n",
       "      <td>0</td>\n",
       "    </tr>\n",
       "    <tr>\n",
       "      <th>4</th>\n",
       "      <td>6483659</td>\n",
       "      <td>사이몬페그의 익살스런 연기가 돋보였던 영화!스파이더맨에서 늙어보이기만 했던 커스틴 ...</td>\n",
       "      <td>1</td>\n",
       "    </tr>\n",
       "  </tbody>\n",
       "</table>\n",
       "</div>"
      ],
      "text/plain": [
       "         id                                           document  label\n",
       "0   9976970                                아 더빙.. 진짜 짜증나네요 목소리      0\n",
       "1   3819312                  흠...포스터보고 초딩영화줄....오버연기조차 가볍지 않구나      1\n",
       "2  10265843                                  너무재밓었다그래서보는것을추천한다      0\n",
       "3   9045019                      교도소 이야기구먼 ..솔직히 재미는 없다..평점 조정      0\n",
       "4   6483659  사이몬페그의 익살스런 연기가 돋보였던 영화!스파이더맨에서 늙어보이기만 했던 커스틴 ...      1"
      ]
     },
     "execution_count": 1,
     "metadata": {},
     "output_type": "execute_result"
    }
   ],
   "source": [
    "import pandas as pd\n",
    "\n",
    "# 데이터를 읽어봅시다. \n",
    "train_data = pd.read_table('~/aiffel/sentiment_classification/data/ratings_train.txt')\n",
    "test_data = pd.read_table('~/aiffel/sentiment_classification/data/ratings_test.txt')\n",
    "\n",
    "# train_data.shape : (150000, 3)\n",
    "# test_data.shape  :  (50000, 3)\n",
    "# col1 : Id\n",
    "# col2 : document\n",
    "# col3 : labe\n",
    "train_data.head()"
   ]
  },
  {
   "cell_type": "markdown",
   "id": "aa907182",
   "metadata": {},
   "source": [
    "### 형태를 확인해봅시다.\n",
    "\n",
    "- `train_data.shape`은 `150,000` rows 와 `3` columns\n",
    "- `test_data.shape`은 `50,000` row와 `3` columns\n",
    "\n",
    "\n"
   ]
  },
  {
   "cell_type": "code",
   "execution_count": 2,
   "id": "705aae2a",
   "metadata": {},
   "outputs": [
    {
     "name": "stdout",
     "output_type": "stream",
     "text": [
      "(150000, 3)\n",
      "(50000, 3)\n"
     ]
    }
   ],
   "source": [
    "print(train_data.shape)\n",
    "print(test_data.shape)"
   ]
  },
  {
   "cell_type": "code",
   "execution_count": 3,
   "id": "618b351e",
   "metadata": {},
   "outputs": [],
   "source": [
    "import matplotlib.pyplot as plt\n",
    "\n"
   ]
  },
  {
   "cell_type": "markdown",
   "id": "8d68f841",
   "metadata": {},
   "source": [
    "### 자신만의 data_loader를 만들어보자.\n",
    "- 데이터 중복 제거\n",
    "- NaN 결측치 제거\n",
    "- 한국어 토크나이저로 토큰화\n",
    "- 불용어 제거\n",
    "- 사전 word_to_index 구성\n",
    "- 텍스트 스트링을 사전 인덱스 스트링으로 변환\n",
    "- X_train, y_train, X_test, y_test, word_to_index 리턴"
   ]
  },
  {
   "cell_type": "code",
   "execution_count": 4,
   "id": "66805771",
   "metadata": {},
   "outputs": [],
   "source": [
    "from konlpy.tag import Mecab\n",
    "import numpy as np\n",
    "from collections import Counter"
   ]
  },
  {
   "cell_type": "code",
   "execution_count": 5,
   "id": "78fa549c",
   "metadata": {},
   "outputs": [],
   "source": [
    "# 형태소 분석기 Mecab룰 통한 토크나이저\n",
    "tokenizer = Mecab()"
   ]
  },
  {
   "cell_type": "code",
   "execution_count": 6,
   "id": "de123ecd",
   "metadata": {},
   "outputs": [],
   "source": [
    "# 불용어 제거\n",
    "stopwords = ['의','가','이','은','들','는','좀','잘','걍','과','도','를','으로','자','에','와','한','하다']"
   ]
  },
  {
   "cell_type": "code",
   "execution_count": 7,
   "id": "b368ba1a",
   "metadata": {},
   "outputs": [],
   "source": [
    "def load_data(train_data, test_data, num_words=None):\n",
    "    # train, test 데이터내 중복 제거 및 결측치 제거\n",
    "    train_data.drop_duplicates(subset=['document'], inplace=True)\n",
    "    train_data = train_data.dropna(how = 'any') \n",
    "    test_data.drop_duplicates(subset=['document'], inplace=True)\n",
    "    test_data = test_data.dropna(how = 'any') \n",
    "    \n",
    "    X_train = []\n",
    "    for sentence in train_data['document']:\n",
    "        temp_X = tokenizer.morphs(sentence) # 토큰화\n",
    "        temp_X = [word for word in temp_X if not word in stopwords] # 불용어 제거\n",
    "        X_train.append(temp_X)\n",
    "\n",
    "    X_test = []\n",
    "    for sentence in test_data['document']:\n",
    "        temp_X = tokenizer.morphs(sentence) # 토큰화\n",
    "        temp_X = [word for word in temp_X if not word in stopwords] # 불용어 제거\n",
    "        X_test.append(temp_X)\n",
    "        \n",
    "    # 1차원의 list 형태로 변환\n",
    "    # Before : [['가', '가', '나', '다'], ['가', '라', '마'], ['마', '사']]\n",
    "    # After  : ['가', '가', '나', '다', '가', '라', '마', '마', '사']\n",
    "    words = np.concatenate(X_train).tolist()\n",
    "\n",
    "    # 위에서 변환된 ['가', '가', '나', '다', '가', '라', '마', '마', '사'] list가 있다고 할때\n",
    "    # Counter()를 거치고 나면 Counter({'가': 3, '마': 2, '나': 1, '다': 1, '라': 1, '사': 1}) 객체가 된다.\n",
    "    # Counter객체를 most_common(3)함수를 사용하면 최빈값 3번째 까지 리스트에 담긴 튜플 형태로 반환된다.\n",
    "    # output : [('가', 3), ('마', 2), ('나', 1)]\n",
    "    counter = Counter(words)\n",
    "    counter = counter.most_common(num_words-4)\n",
    "    \n",
    "    # counter = [('가', 3), ('마', 2), ('나', 1)] 일때\n",
    "    # [k for k, _ in counter]의 output은 ['가', '마', '나']이 된다.\n",
    "    # 같은 차원의 리스트 합 연산은 ['', ''] + ['가', '마', '나'] => ['', '', '가', '마', '나']형태가 된다.\n",
    "    vocab = ['', '', '', ''] + [key for key, _ in counter]\n",
    "    word_to_index = {word:index for index, word in enumerate(vocab)}\n",
    "        \n",
    "    def wordlist_to_indexlist(wordlist):\n",
    "        return [word_to_index[word] if word in word_to_index else word_to_index[''] for word in wordlist]\n",
    "        \n",
    "    X_train = list(map(wordlist_to_indexlist, X_train))\n",
    "    X_test = list(map(wordlist_to_indexlist, X_test))\n",
    "        \n",
    "    return X_train, np.array(list(train_data['label'])), X_test, np.array(list(test_data['label'])), word_to_index"
   ]
  },
  {
   "cell_type": "code",
   "execution_count": 8,
   "id": "65a2efe1",
   "metadata": {
    "scrolled": false
   },
   "outputs": [],
   "source": [
    "X_train, y_train, X_test, y_test, word_to_index = load_data(train_data, test_data, 10000) "
   ]
  },
  {
   "cell_type": "code",
   "execution_count": 9,
   "id": "5553a78c",
   "metadata": {},
   "outputs": [],
   "source": [
    "index_to_word = {index:word for word, index in word_to_index.items()}"
   ]
  },
  {
   "cell_type": "code",
   "execution_count": 10,
   "id": "07ed1113",
   "metadata": {},
   "outputs": [],
   "source": [
    "# 문장 1개를 활용할 딕셔너리와 함께 주면, 단어 인덱스 리스트 벡터로 변환해 주는 함수입니다. \n",
    "# 단, 모든 문장은 <BOS>로 시작하는 것으로 합니다. \n",
    "def get_encoded_sentence(sentence, word_to_index):\n",
    "    return [word_to_index['<BOS>']]+[word_to_index[word] if word in word_to_index else word_to_index['<UNK>'] for word in sentence.split()]\n",
    "\n",
    "# 여러 개의 문장 리스트를 한꺼번에 단어 인덱스 리스트 벡터로 encode해 주는 함수입니다. \n",
    "def get_encoded_sentences(sentences, word_to_index):\n",
    "    return [get_encoded_sentence(sentence, word_to_index) for sentence in sentences]\n",
    "\n",
    "# 숫자 벡터로 encode된 문장을 원래대로 decode하는 함수입니다. \n",
    "def get_decoded_sentence(encoded_sentence, index_to_word):\n",
    "    return ' '.join(index_to_word[index] if index in index_to_word else '<UNK>' for index in encoded_sentence[1:])  #[1:]를 통해 <BOS>를 제외\n",
    "\n",
    "# 여러 개의 숫자 벡터로 encode된 문장을 한꺼번에 원래대로 decode하는 함수입니다. \n",
    "def get_decoded_sentences(encoded_sentences, index_to_word):\n",
    "    return [get_decoded_sentence(encoded_sentence, index_to_word) for encoded_sentence in encoded_sentences]"
   ]
  },
  {
   "cell_type": "code",
   "execution_count": 11,
   "id": "a8e1ee11",
   "metadata": {},
   "outputs": [
    {
     "name": "stdout",
     "output_type": "stream",
     "text": [
      "<BOS>\n"
     ]
    }
   ],
   "source": [
    "#실제 인코딩 인덱스는 제공된 word_to_index에서 index 기준으로 3씩 뒤로 밀려 있습니다.  \n",
    "# 딕셔너리는 { 단어 : Index번호 }순으로 되어 있다.\n",
    "# dic = {'':0, '':1, '':2, '':3, '가':4, '나':5}\n",
    "# {k:(v+1) for k,v in dic.items()}을 거치면 {'': 4, '가': 5, '나': 6} 형태가 된다.\n",
    "word_to_index = {k:(v+1) for k,v in word_to_index.items()}\n",
    "\n",
    "# 처음 몇 개 인덱스는 사전에 정의되어 있습니다\n",
    "# 딕셔너리 맨 뒤에 아래 4개의 새로운 key-value를 추가합니다.\n",
    "# 아래 4개의 key-value는 맨 뒤에 붙는다.\n",
    "word_to_index[\"<PAD>\"] = 0\n",
    "word_to_index[\"<BOS>\"] = 1\n",
    "word_to_index[\"<UNK>\"] = 2  # unknown\n",
    "word_to_index[\"<UNUSED>\"] = 3\n",
    "\n",
    "index_to_word[0] = \"<PAD>\"\n",
    "index_to_word[1] = \"<BOS>\"\n",
    "index_to_word[2] = \"<UNK>\"\n",
    "index_to_word[3] = \"<UNUSED>\"\n",
    "\n",
    "index_to_word = {index:word for word, index in word_to_index.items()}\n",
    "\n",
    "print(index_to_word[1])     # '<BOS>' 가 출력됩니다."
   ]
  },
  {
   "cell_type": "code",
   "execution_count": 12,
   "id": "a50a2b92",
   "metadata": {},
   "outputs": [
    {
     "name": "stderr",
     "output_type": "stream",
     "text": [
      "<__array_function__ internals>:5: VisibleDeprecationWarning: Creating an ndarray from ragged nested sequences (which is a list-or-tuple of lists-or-tuples-or ndarrays with different lengths or shapes) is deprecated. If you meant to do this, you must specify 'dtype=object' when creating the ndarray.\n"
     ]
    }
   ],
   "source": [
    "# X_Train, X_Test를 하나의 list에 통합.\n",
    "# [[1, 33, 22, 13], [11, 23]] 와 [[32, 11, 23]] = [[1, 33, 22, 13], [11, 23], [32, 11, 23]]\n",
    "total_train_text = np.concatenate((X_train, X_test), axis=0).tolist()\n",
    "\n",
    "# total_train_text의 개별 list의 길이를 개별로 구축\n",
    "sep_len_ttt = np.array([len(tokens) for tokens in total_train_text])"
   ]
  },
  {
   "cell_type": "code",
   "execution_count": 13,
   "id": "935ff7f2",
   "metadata": {},
   "outputs": [
    {
     "data": {
      "image/png": "[encoded data removed]",
      "text/plain": [
       "<Figure size 360x360 with 1 Axes>"
      ]
     },
     "metadata": {
      "needs_background": "light"
     },
     "output_type": "display_data"
    }
   ],
   "source": [
    "import matplotlib.pyplot as plt\n",
    "import seaborn as sns\n",
    "\n",
    "dst = sns.displot(data=sep_len_ttt)\n",
    "dst.set(title=\"length of documents column\").set_xlabels('length of documents')\n",
    "plt.show()"
   ]
  },
  {
   "cell_type": "code",
   "execution_count": 14,
   "id": "12783cf8",
   "metadata": {
    "scrolled": true
   },
   "outputs": [
    {
     "name": "stdout",
     "output_type": "stream",
     "text": [
      " 0부터 Max까지 빈도 수 \n",
      "[    5  1015  2554  4951  6936  9580 11741 12441 11822 10907 10287  9531\n",
      "  8928  8253  7868  7440  6823  6258  5535  4869  4312  3746  3136  2653\n",
      "  2242  1993  1688  1512  1376  1270  1241  1108  1074   947   951   927\n",
      "   814   854   763   714   728   712   623   583   580   537   593   576\n",
      "   528   499   547   560   573   587   597   583   569   567   539   455\n",
      "   438   409   358   306   254   193   171   132    97    88    58    63\n",
      "    39    26    15    26    22     8     8     7     4     2     2     1\n",
      "     1     1     2     0     2     0     0     0     0     1     0     0\n",
      "     0     0     0     0     0     0     0     0     0     1     1     0\n",
      "     0     0     0     0     0     0     0     1     1]\n",
      " 최빈수 : 7\n",
      " 특이값(outlier) : 116\n",
      " 중앙값(median) : 12.0\n",
      " 평균(mean) : 15.96940191154864\n",
      " 표준편차(sigma) : 12.843571191092\n"
     ]
    }
   ],
   "source": [
    "# 최빈값을 구하기 위해 Numpy의 bincount와 argmax를 이용\n",
    "\n",
    "print(f\" 0부터 Max까지 빈도 수 \\n{np.bincount(sep_len_ttt)}\")\n",
    "print(f\" 최빈수 : {np.bincount(sep_len_ttt).argmax()}\")\n",
    "print(f\" 특이값(outlier) : {np.max(sep_len_ttt)}\")\n",
    "print(f\" 중앙값(median) : {np.median(sep_len_ttt)}\")\n",
    "print(f\" 평균(mean) : {np.mean(sep_len_ttt)}\")\n",
    "print(f\" 표준편차(sigma) : {np.std(sep_len_ttt)}\")"
   ]
  },
  {
   "cell_type": "markdown",
   "id": "6e603a3f",
   "metadata": {},
   "source": [
    "#### 분포 해석\n",
    "- 데이터가 오른쪽 꼬리 분포이므로 평균이 아닌 중앙값을 이용하여 최대 길이를 선정\n",
    "    - 중앙값(median)은 이상치(outlier)의 영향을 받지 않는다."
   ]
  },
  {
   "cell_type": "markdown",
   "id": "ea74bbc0",
   "metadata": {},
   "source": [
    "## 1. RNN(LSTM)으로 모델 돌려보기"
   ]
  },
  {
   "cell_type": "code",
   "execution_count": 15,
   "id": "fd8ff46f",
   "metadata": {},
   "outputs": [],
   "source": [
    "import tensorflow as tf"
   ]
  },
  {
   "cell_type": "markdown",
   "id": "df86ddb9",
   "metadata": {},
   "source": [
    "X_train과 X_test를 <u>문장앞</u>에 패딩(`<PAD>`)을 추가하여 일정한 길이를 맞춘다."
   ]
  },
  {
   "cell_type": "code",
   "execution_count": 16,
   "id": "be323dde",
   "metadata": {
    "scrolled": true
   },
   "outputs": [],
   "source": [
    "X_train = tf.keras.preprocessing.sequence.pad_sequences(X_train,\n",
    "                                                        value=word_to_index[\"<PAD>\"],\n",
    "                                                        padding='pre',\n",
    "                                                        maxlen=30)\n",
    "\n",
    "X_test = tf.keras.preprocessing.sequence.pad_sequences(X_test,\n",
    "                                                       value=word_to_index[\"<PAD>\"],\n",
    "                                                       padding='pre',\n",
    "                                                       maxlen=30)"
   ]
  },
  {
   "cell_type": "code",
   "execution_count": null,
   "id": "36804c73",
   "metadata": {},
   "outputs": [],
   "source": []
  },
  {
   "cell_type": "code",
   "execution_count": 17,
   "id": "5981921f",
   "metadata": {},
   "outputs": [
    {
     "name": "stdout",
     "output_type": "stream",
     "text": [
      "Model: \"sequential\"\n",
      "_________________________________________________________________\n",
      "Layer (type)                 Output Shape              Param #   \n",
      "=================================================================\n",
      "embedding (Embedding)        (None, None, 30)          300000    \n",
      "_________________________________________________________________\n",
      "lstm (LSTM)                  (None, 15)                2760      \n",
      "_________________________________________________________________\n",
      "dense (Dense)                (None, 8)                 128       \n",
      "_________________________________________________________________\n",
      "dense_1 (Dense)              (None, 1)                 9         \n",
      "=================================================================\n",
      "Total params: 302,897\n",
      "Trainable params: 302,897\n",
      "Non-trainable params: 0\n",
      "_________________________________________________________________\n"
     ]
    }
   ],
   "source": [
    "vocab_size = 10000    # 어휘 사전의 크기입니다(10,000개의 단어)\n",
    "word_vector_dim = 30  # 워드 벡터의 차원 수 (변경 가능한 하이퍼파라미터)\n",
    "\n",
    "# model 설계 - 딥러닝 모델 코드를 직접 작성해 주세요.\n",
    "model = tf.keras.Sequential()\n",
    "model.add(tf.keras.layers.Embedding(vocab_size, word_vector_dim, input_shape=(None,)))\n",
    "model.add(tf.keras.layers.LSTM(15))   # 가장 널리 쓰이는 RNN인 LSTM 레이어를 사용하였습니다. 이때 LSTM state 벡터의 차원수는 8로 하였습니다. (변경 가능)\n",
    "model.add(tf.keras.layers.Dense(8, activation='relu'))\n",
    "model.add(tf.keras.layers.Dense(1, activation='sigmoid'))  # 최종 출력은 긍정/부정을 나타내는 1dim 입니다.\n",
    "\n",
    "model.summary()"
   ]
  },
  {
   "cell_type": "markdown",
   "id": "4ff94996",
   "metadata": {},
   "source": [
    "### 학습용, 검증용, 시험용 데이터셋 구분\n",
    "- 모델 합습에 사용되는 `Train set`과 학습 완료 후 모델 검증을 위한 `Validation(Val) set` 그리고 마지막으로 학습과 검증 완료 후 모델의 최종 성능 평가를 위한 `Test set` 으로 나눈다."
   ]
  },
  {
   "cell_type": "code",
   "execution_count": 18,
   "id": "f9d5020c",
   "metadata": {},
   "outputs": [
    {
     "name": "stdout",
     "output_type": "stream",
     "text": [
      "146182\n",
      "49157\n"
     ]
    }
   ],
   "source": [
    "print(len(X_train))\n",
    "print(len(X_test))"
   ]
  },
  {
   "cell_type": "code",
   "execution_count": 19,
   "id": "9534aa21",
   "metadata": {
    "scrolled": true
   },
   "outputs": [
    {
     "name": "stdout",
     "output_type": "stream",
     "text": [
      "146182\n",
      "49157\n"
     ]
    }
   ],
   "source": [
    "print(len(y_train))\n",
    "print(len(y_test))"
   ]
  },
  {
   "cell_type": "code",
   "execution_count": 20,
   "id": "23cb013a",
   "metadata": {},
   "outputs": [],
   "source": [
    "X_val = X_train[:49157]\n",
    "y_val = y_train[:49157]\n",
    "\n",
    "partial_X_train = X_train[49157:]  \n",
    "partial_y_train = y_train[49157:]"
   ]
  },
  {
   "cell_type": "code",
   "execution_count": 21,
   "id": "8b1a34fb",
   "metadata": {},
   "outputs": [],
   "source": [
    "model.compile(optimizer='adam',\n",
    "              loss='binary_crossentropy',\n",
    "              metrics=['accuracy'])"
   ]
  },
  {
   "cell_type": "code",
   "execution_count": 22,
   "id": "0b532f72",
   "metadata": {
    "scrolled": true
   },
   "outputs": [
    {
     "name": "stdout",
     "output_type": "stream",
     "text": [
      "Epoch 1/25\n",
      "190/190 [==============================] - 5s 9ms/step - loss: 0.4936 - accuracy: 0.7772 - val_loss: 0.3737 - val_accuracy: 0.8370\n",
      "Epoch 2/25\n",
      "190/190 [==============================] - 1s 6ms/step - loss: 0.3403 - accuracy: 0.8562 - val_loss: 0.3494 - val_accuracy: 0.8479\n",
      "Epoch 3/25\n",
      "190/190 [==============================] - 1s 6ms/step - loss: 0.3123 - accuracy: 0.8698 - val_loss: 0.3517 - val_accuracy: 0.8478\n",
      "Epoch 4/25\n",
      "190/190 [==============================] - 1s 6ms/step - loss: 0.2939 - accuracy: 0.8784 - val_loss: 0.3516 - val_accuracy: 0.8493\n",
      "Epoch 5/25\n",
      "190/190 [==============================] - 1s 6ms/step - loss: 0.2783 - accuracy: 0.8863 - val_loss: 0.3629 - val_accuracy: 0.8442\n",
      "Epoch 6/25\n",
      "190/190 [==============================] - 1s 6ms/step - loss: 0.2635 - accuracy: 0.8934 - val_loss: 0.3650 - val_accuracy: 0.8468\n",
      "Epoch 7/25\n",
      "190/190 [==============================] - 1s 6ms/step - loss: 0.2490 - accuracy: 0.9003 - val_loss: 0.3767 - val_accuracy: 0.8460\n",
      "Epoch 8/25\n",
      "190/190 [==============================] - 1s 6ms/step - loss: 0.2366 - accuracy: 0.9057 - val_loss: 0.4038 - val_accuracy: 0.8419\n",
      "Epoch 9/25\n",
      "190/190 [==============================] - 1s 6ms/step - loss: 0.2240 - accuracy: 0.9109 - val_loss: 0.3983 - val_accuracy: 0.8436\n",
      "Epoch 10/25\n",
      "190/190 [==============================] - 1s 6ms/step - loss: 0.2103 - accuracy: 0.9179 - val_loss: 0.4164 - val_accuracy: 0.8433\n",
      "Epoch 11/25\n",
      "190/190 [==============================] - 1s 6ms/step - loss: 0.1981 - accuracy: 0.9246 - val_loss: 0.4381 - val_accuracy: 0.8417\n",
      "Epoch 12/25\n",
      "190/190 [==============================] - 1s 6ms/step - loss: 0.1875 - accuracy: 0.9288 - val_loss: 0.4695 - val_accuracy: 0.8389\n",
      "Epoch 13/25\n",
      "190/190 [==============================] - 1s 6ms/step - loss: 0.1756 - accuracy: 0.9339 - val_loss: 0.4968 - val_accuracy: 0.8379\n",
      "Epoch 14/25\n",
      "190/190 [==============================] - 1s 6ms/step - loss: 0.1663 - accuracy: 0.9382 - val_loss: 0.5071 - val_accuracy: 0.8367\n",
      "Epoch 15/25\n",
      "190/190 [==============================] - 1s 6ms/step - loss: 0.1573 - accuracy: 0.9426 - val_loss: 0.5045 - val_accuracy: 0.8334\n",
      "Epoch 16/25\n",
      "190/190 [==============================] - 1s 7ms/step - loss: 0.1482 - accuracy: 0.9466 - val_loss: 0.5502 - val_accuracy: 0.8328\n",
      "Epoch 17/25\n",
      "190/190 [==============================] - 1s 6ms/step - loss: 0.1383 - accuracy: 0.9513 - val_loss: 0.5775 - val_accuracy: 0.8319\n",
      "Epoch 18/25\n",
      "190/190 [==============================] - 1s 6ms/step - loss: 0.1315 - accuracy: 0.9538 - val_loss: 0.6169 - val_accuracy: 0.8301\n",
      "Epoch 19/25\n",
      "190/190 [==============================] - 1s 6ms/step - loss: 0.1282 - accuracy: 0.9554 - val_loss: 0.6166 - val_accuracy: 0.8300\n",
      "Epoch 20/25\n",
      "190/190 [==============================] - 1s 6ms/step - loss: 0.1207 - accuracy: 0.9583 - val_loss: 0.6759 - val_accuracy: 0.8286\n",
      "Epoch 21/25\n",
      "190/190 [==============================] - 1s 6ms/step - loss: 0.1171 - accuracy: 0.9590 - val_loss: 0.6341 - val_accuracy: 0.8250\n",
      "Epoch 22/25\n",
      "190/190 [==============================] - 1s 6ms/step - loss: 0.1119 - accuracy: 0.9612 - val_loss: 0.7312 - val_accuracy: 0.8254\n",
      "Epoch 23/25\n",
      "190/190 [==============================] - 1s 6ms/step - loss: 0.1062 - accuracy: 0.9634 - val_loss: 0.7784 - val_accuracy: 0.8263\n",
      "Epoch 24/25\n",
      "190/190 [==============================] - 1s 6ms/step - loss: 0.1040 - accuracy: 0.9643 - val_loss: 0.7758 - val_accuracy: 0.8267\n",
      "Epoch 25/25\n",
      "190/190 [==============================] - 1s 6ms/step - loss: 0.1004 - accuracy: 0.9648 - val_loss: 0.7877 - val_accuracy: 0.8270\n"
     ]
    }
   ],
   "source": [
    "history = model.fit(partial_X_train,\n",
    "                    partial_y_train,\n",
    "                    epochs=25,\n",
    "                    batch_size=512,\n",
    "                    validation_data=(X_val, y_val),\n",
    "                    verbose=1)"
   ]
  },
  {
   "cell_type": "code",
   "execution_count": 23,
   "id": "01291f67",
   "metadata": {},
   "outputs": [
    {
     "name": "stdout",
     "output_type": "stream",
     "text": [
      "1537/1537 - 3s - loss: 0.7955 - accuracy: 0.8233\n",
      "[0.7955375909805298, 0.8232601881027222]\n"
     ]
    }
   ],
   "source": [
    "results = model.evaluate(X_test,  y_test, verbose=2)\n",
    "\n",
    "print(results)"
   ]
  },
  {
   "cell_type": "code",
   "execution_count": 24,
   "id": "9a4b92d5",
   "metadata": {
    "scrolled": true
   },
   "outputs": [
    {
     "data": {
      "image/png": "[encoded data removed]",
      "text/plain": [
       "<Figure size 1080x576 with 2 Axes>"
      ]
     },
     "metadata": {
      "needs_background": "light"
     },
     "output_type": "display_data"
    }
   ],
   "source": [
    "history_dict = history.history\n",
    "\n",
    "acc = history_dict['accuracy']\n",
    "val_acc = history_dict['val_accuracy']\n",
    "loss = history_dict['loss']\n",
    "val_loss = history_dict['val_loss']\n",
    "\n",
    "epochs = range(1, len(acc) + 1)\n",
    "\n",
    "\n",
    "plt.figure(figsize=(15, 8))\n",
    "plt.subplot(2, 2, 1)\n",
    "sns.lineplot(x=epochs, y=loss, color='r', linestyle='--', marker='o')\n",
    "sns.lineplot(x=epochs, y=val_loss, color='b', linestyle='-', marker='o')\n",
    "plt.xlabel(\"epochs\")\n",
    "plt.ylabel(\"loss\")\n",
    "plt.title(\"Training and Validation Loss\")\n",
    "plt.legend(labels=['Train loss', 'Val loss'])\n",
    "\n",
    "plt.subplot(2, 2, 2)\n",
    "sns.lineplot(x=epochs, y=acc, color='r', linestyle='--', marker='o')\n",
    "sns.lineplot(x=epochs, y=val_acc, color='b', linestyle='-', marker='o')\n",
    "plt.xlabel(\"epochs\")\n",
    "plt.ylabel(\"acc\")\n",
    "plt.title(\"Training and Validation Accuracy\")\n",
    "plt.legend(labels=['Train acc', 'Val acc'])\n",
    "\n",
    "plt.show()"
   ]
  },
  {
   "cell_type": "code",
   "execution_count": 25,
   "id": "df486f3a",
   "metadata": {},
   "outputs": [
    {
     "name": "stdout",
     "output_type": "stream",
     "text": [
      "1537/1537 - 3s - loss: 0.7955 - accuracy: 0.8233\n",
      "[0.7955375909805298, 0.8232601881027222]\n"
     ]
    }
   ],
   "source": [
    "results = model.evaluate(X_test,  y_test, verbose=2)\n",
    "\n",
    "print(results)"
   ]
  },
  {
   "cell_type": "markdown",
   "id": "4d67cfc2",
   "metadata": {},
   "source": [
    "### LSTM 결과\n",
    "\n",
    "오히려 epoch이 늘어남에 따라 검증용 데이터에 대한 정확도가 줄어듬을 볼 수 있었다.\n",
    "\n",
    "Train과 Val ACC가 2번째 epoch 이후 Validation Acc가 줄어드는 것으로 보아, 과적합(오버피팅)이 발생함을 알 수 있다."
   ]
  },
  {
   "cell_type": "markdown",
   "id": "d1814c89",
   "metadata": {},
   "source": [
    "## 2. RNN이 아닌 방법으로 모델 돌려보기\n",
    "\n",
    "### 2-1. CNN(1-D)으로 모델 돌려보기"
   ]
  },
  {
   "cell_type": "code",
   "execution_count": 26,
   "id": "9ad012b6",
   "metadata": {},
   "outputs": [
    {
     "name": "stdout",
     "output_type": "stream",
     "text": [
      "Model: \"sequential_1\"\n",
      "_________________________________________________________________\n",
      "Layer (type)                 Output Shape              Param #   \n",
      "=================================================================\n",
      "embedding_1 (Embedding)      (None, None, 30)          300000    \n",
      "_________________________________________________________________\n",
      "conv1d (Conv1D)              (None, None, 16)          1936      \n",
      "_________________________________________________________________\n",
      "max_pooling1d (MaxPooling1D) (None, None, 16)          0         \n",
      "_________________________________________________________________\n",
      "conv1d_1 (Conv1D)            (None, None, 16)          1040      \n",
      "_________________________________________________________________\n",
      "global_max_pooling1d (Global (None, 16)                0         \n",
      "_________________________________________________________________\n",
      "dense_2 (Dense)              (None, 8)                 136       \n",
      "_________________________________________________________________\n",
      "dense_3 (Dense)              (None, 1)                 9         \n",
      "=================================================================\n",
      "Total params: 303,121\n",
      "Trainable params: 303,121\n",
      "Non-trainable params: 0\n",
      "_________________________________________________________________\n"
     ]
    }
   ],
   "source": [
    "model = tf.keras.Sequential()\n",
    "model.add(tf.keras.layers.Embedding(vocab_size, word_vector_dim, input_shape=(None,)))\n",
    "model.add(tf.keras.layers.Conv1D(16, 4, activation='relu'))\n",
    "model.add(tf.keras.layers.MaxPooling1D(5))\n",
    "model.add(tf.keras.layers.Conv1D(16, 4, activation='relu'))\n",
    "model.add(tf.keras.layers.GlobalMaxPooling1D())\n",
    "model.add(tf.keras.layers.Dense(8, activation='relu'))\n",
    "model.add(tf.keras.layers.Dense(1, activation='sigmoid'))  # 최종 출력은 긍정/부정을 나타내는 1dim 입니다.\n",
    "\n",
    "model.summary()"
   ]
  },
  {
   "cell_type": "code",
   "execution_count": 27,
   "id": "2c3d5918",
   "metadata": {},
   "outputs": [],
   "source": [
    "model.compile(optimizer='adam',\n",
    "              loss='binary_crossentropy',\n",
    "              metrics=['accuracy'])"
   ]
  },
  {
   "cell_type": "code",
   "execution_count": 28,
   "id": "790d1854",
   "metadata": {},
   "outputs": [
    {
     "name": "stdout",
     "output_type": "stream",
     "text": [
      "Epoch 1/25\n",
      "190/190 [==============================] - 3s 7ms/step - loss: 0.5392 - accuracy: 0.7242 - val_loss: 0.4060 - val_accuracy: 0.8098\n",
      "Epoch 2/25\n",
      "190/190 [==============================] - 1s 6ms/step - loss: 0.3720 - accuracy: 0.8331 - val_loss: 0.3924 - val_accuracy: 0.8161\n",
      "Epoch 3/25\n",
      "190/190 [==============================] - 1s 5ms/step - loss: 0.3261 - accuracy: 0.8590 - val_loss: 0.3947 - val_accuracy: 0.8190\n",
      "Epoch 4/25\n",
      "190/190 [==============================] - 1s 5ms/step - loss: 0.2846 - accuracy: 0.8807 - val_loss: 0.4085 - val_accuracy: 0.8167\n",
      "Epoch 5/25\n",
      "190/190 [==============================] - 1s 5ms/step - loss: 0.2397 - accuracy: 0.9025 - val_loss: 0.4415 - val_accuracy: 0.8115\n",
      "Epoch 6/25\n",
      "190/190 [==============================] - 1s 5ms/step - loss: 0.1953 - accuracy: 0.9231 - val_loss: 0.4881 - val_accuracy: 0.8075\n",
      "Epoch 7/25\n",
      "190/190 [==============================] - 1s 5ms/step - loss: 0.1558 - accuracy: 0.9401 - val_loss: 0.5471 - val_accuracy: 0.8025\n",
      "Epoch 8/25\n",
      "190/190 [==============================] - 1s 5ms/step - loss: 0.1257 - accuracy: 0.9523 - val_loss: 0.6053 - val_accuracy: 0.7997\n",
      "Epoch 9/25\n",
      "190/190 [==============================] - 1s 6ms/step - loss: 0.1028 - accuracy: 0.9604 - val_loss: 0.6699 - val_accuracy: 0.7967\n",
      "Epoch 10/25\n",
      "190/190 [==============================] - 1s 6ms/step - loss: 0.0872 - accuracy: 0.9657 - val_loss: 0.7351 - val_accuracy: 0.7922\n",
      "Epoch 11/25\n",
      "190/190 [==============================] - 1s 6ms/step - loss: 0.0752 - accuracy: 0.9696 - val_loss: 0.7976 - val_accuracy: 0.7921\n",
      "Epoch 12/25\n",
      "190/190 [==============================] - 1s 6ms/step - loss: 0.0658 - accuracy: 0.9734 - val_loss: 0.8627 - val_accuracy: 0.7896\n",
      "Epoch 13/25\n",
      "190/190 [==============================] - 1s 5ms/step - loss: 0.0593 - accuracy: 0.9751 - val_loss: 0.9285 - val_accuracy: 0.7886\n",
      "Epoch 14/25\n",
      "190/190 [==============================] - 1s 5ms/step - loss: 0.0551 - accuracy: 0.9768 - val_loss: 0.9797 - val_accuracy: 0.7877\n",
      "Epoch 15/25\n",
      "190/190 [==============================] - 1s 6ms/step - loss: 0.0517 - accuracy: 0.9777 - val_loss: 1.0433 - val_accuracy: 0.7865\n",
      "Epoch 16/25\n",
      "190/190 [==============================] - 1s 6ms/step - loss: 0.0484 - accuracy: 0.9785 - val_loss: 1.1023 - val_accuracy: 0.7844\n",
      "Epoch 17/25\n",
      "190/190 [==============================] - 1s 6ms/step - loss: 0.0458 - accuracy: 0.9791 - val_loss: 1.1520 - val_accuracy: 0.7865\n",
      "Epoch 18/25\n",
      "190/190 [==============================] - 1s 5ms/step - loss: 0.0431 - accuracy: 0.9803 - val_loss: 1.2234 - val_accuracy: 0.7837\n",
      "Epoch 19/25\n",
      "190/190 [==============================] - 1s 6ms/step - loss: 0.0413 - accuracy: 0.9804 - val_loss: 1.2731 - val_accuracy: 0.7841\n",
      "Epoch 20/25\n",
      "190/190 [==============================] - 1s 6ms/step - loss: 0.0400 - accuracy: 0.9810 - val_loss: 1.3329 - val_accuracy: 0.7814\n",
      "Epoch 21/25\n",
      "190/190 [==============================] - 1s 6ms/step - loss: 0.0401 - accuracy: 0.9810 - val_loss: 1.3697 - val_accuracy: 0.7796\n",
      "Epoch 22/25\n",
      "190/190 [==============================] - 1s 5ms/step - loss: 0.0439 - accuracy: 0.9794 - val_loss: 1.4173 - val_accuracy: 0.7811\n",
      "Epoch 23/25\n",
      "190/190 [==============================] - 1s 5ms/step - loss: 0.0540 - accuracy: 0.9751 - val_loss: 1.4092 - val_accuracy: 0.7805\n",
      "Epoch 24/25\n",
      "190/190 [==============================] - 1s 5ms/step - loss: 0.0510 - accuracy: 0.9763 - val_loss: 1.4316 - val_accuracy: 0.7806\n",
      "Epoch 25/25\n",
      "190/190 [==============================] - 1s 5ms/step - loss: 0.0429 - accuracy: 0.9796 - val_loss: 1.4686 - val_accuracy: 0.7796\n"
     ]
    }
   ],
   "source": [
    "history = model.fit(partial_X_train,\n",
    "                    partial_y_train,\n",
    "                    epochs=25,\n",
    "                    batch_size=512,\n",
    "                    validation_data=(X_val, y_val),\n",
    "                    verbose=1)"
   ]
  },
  {
   "cell_type": "code",
   "execution_count": 29,
   "id": "a6ddc60e",
   "metadata": {},
   "outputs": [
    {
     "data": {
      "image/png": "[encoded data removed]",
      "text/plain": [
       "<Figure size 1080x576 with 2 Axes>"
      ]
     },
     "metadata": {
      "needs_background": "light"
     },
     "output_type": "display_data"
    }
   ],
   "source": [
    "history_dict = history.history\n",
    "\n",
    "acc = history_dict['accuracy']\n",
    "val_acc = history_dict['val_accuracy']\n",
    "loss = history_dict['loss']\n",
    "val_loss = history_dict['val_loss']\n",
    "\n",
    "epochs = range(1, len(acc) + 1)\n",
    "\n",
    "\n",
    "plt.figure(figsize=(15, 8))\n",
    "plt.subplot(2, 2, 1)\n",
    "sns.lineplot(x=epochs, y=loss, color='r', linestyle='--', marker='o')\n",
    "sns.lineplot(x=epochs, y=val_loss, color='b', linestyle='-', marker='o')\n",
    "plt.xlabel(\"epochs\")\n",
    "plt.ylabel(\"loss\")\n",
    "plt.title(\"Training and Validation Loss\")\n",
    "plt.legend(labels=['Train loss', 'Val loss'])\n",
    "\n",
    "plt.subplot(2, 2, 2)\n",
    "sns.lineplot(x=epochs, y=acc, color='r', linestyle='--', marker='o')\n",
    "sns.lineplot(x=epochs, y=val_acc, color='b', linestyle='-', marker='o')\n",
    "plt.xlabel(\"epochs\")\n",
    "plt.ylabel(\"acc\")\n",
    "plt.title(\"Training and Validation Accuracy\")\n",
    "plt.legend(labels=['Train acc', 'Val acc'])\n",
    "\n",
    "plt.show()"
   ]
  },
  {
   "cell_type": "code",
   "execution_count": 30,
   "id": "85d5498c",
   "metadata": {
    "scrolled": true
   },
   "outputs": [
    {
     "name": "stdout",
     "output_type": "stream",
     "text": [
      "1537/1537 - 3s - loss: 1.5105 - accuracy: 0.7751\n",
      "[1.5104749202728271, 0.7750676274299622]\n"
     ]
    }
   ],
   "source": [
    "results = model.evaluate(X_test,  y_test, verbose=2)\n",
    "\n",
    "print(results)"
   ]
  },
  {
   "cell_type": "markdown",
   "id": "9fea8c42",
   "metadata": {},
   "source": [
    "### 2-2. GlobalMaxPooling1D로 모델 돌려보기"
   ]
  },
  {
   "cell_type": "code",
   "execution_count": 31,
   "id": "0e393de5",
   "metadata": {},
   "outputs": [
    {
     "name": "stdout",
     "output_type": "stream",
     "text": [
      "Model: \"sequential_2\"\n",
      "_________________________________________________________________\n",
      "Layer (type)                 Output Shape              Param #   \n",
      "=================================================================\n",
      "embedding_2 (Embedding)      (None, None, 30)          300000    \n",
      "_________________________________________________________________\n",
      "global_max_pooling1d_1 (Glob (None, 30)                0         \n",
      "_________________________________________________________________\n",
      "dense_4 (Dense)              (None, 8)                 248       \n",
      "_________________________________________________________________\n",
      "dense_5 (Dense)              (None, 1)                 9         \n",
      "=================================================================\n",
      "Total params: 300,257\n",
      "Trainable params: 300,257\n",
      "Non-trainable params: 0\n",
      "_________________________________________________________________\n"
     ]
    }
   ],
   "source": [
    "model = tf.keras.Sequential()\n",
    "model.add(tf.keras.layers.Embedding(vocab_size, word_vector_dim, input_shape=(None,)))\n",
    "model.add(tf.keras.layers.GlobalMaxPooling1D())\n",
    "model.add(tf.keras.layers.Dense(8, activation='relu'))\n",
    "model.add(tf.keras.layers.Dense(1, activation='sigmoid'))  # 최종 출력은 긍정/부정을 나타내는 1dim 입니다.\n",
    "\n",
    "model.summary()"
   ]
  },
  {
   "cell_type": "code",
   "execution_count": 32,
   "id": "df10070c",
   "metadata": {},
   "outputs": [],
   "source": [
    "model.compile(optimizer='adam',\n",
    "              loss='binary_crossentropy',\n",
    "              metrics=['accuracy'])"
   ]
  },
  {
   "cell_type": "code",
   "execution_count": 33,
   "id": "c5095630",
   "metadata": {},
   "outputs": [
    {
     "name": "stdout",
     "output_type": "stream",
     "text": [
      "Epoch 1/20\n",
      "286/286 [==============================] - 2s 4ms/step - loss: 0.5301 - accuracy: 0.7723 - val_loss: 0.3572 - val_accuracy: 0.8491\n",
      "Epoch 2/20\n",
      "286/286 [==============================] - 1s 4ms/step - loss: 0.3451 - accuracy: 0.8515 - val_loss: 0.3000 - val_accuracy: 0.8757\n",
      "Epoch 3/20\n",
      "286/286 [==============================] - 1s 4ms/step - loss: 0.3053 - accuracy: 0.8711 - val_loss: 0.2682 - val_accuracy: 0.8920\n",
      "Epoch 4/20\n",
      "286/286 [==============================] - 1s 4ms/step - loss: 0.2793 - accuracy: 0.8851 - val_loss: 0.2440 - val_accuracy: 0.9038\n",
      "Epoch 5/20\n",
      "286/286 [==============================] - 1s 4ms/step - loss: 0.2582 - accuracy: 0.8953 - val_loss: 0.2233 - val_accuracy: 0.9155\n",
      "Epoch 6/20\n",
      "286/286 [==============================] - 1s 4ms/step - loss: 0.2398 - accuracy: 0.9044 - val_loss: 0.2056 - val_accuracy: 0.9232\n",
      "Epoch 7/20\n",
      "286/286 [==============================] - 1s 4ms/step - loss: 0.2227 - accuracy: 0.9121 - val_loss: 0.1898 - val_accuracy: 0.9302\n",
      "Epoch 8/20\n",
      "286/286 [==============================] - 1s 4ms/step - loss: 0.2072 - accuracy: 0.9195 - val_loss: 0.1746 - val_accuracy: 0.9378\n",
      "Epoch 9/20\n",
      "286/286 [==============================] - 1s 4ms/step - loss: 0.1928 - accuracy: 0.9269 - val_loss: 0.1612 - val_accuracy: 0.9442\n",
      "Epoch 10/20\n",
      "286/286 [==============================] - 1s 4ms/step - loss: 0.1792 - accuracy: 0.9326 - val_loss: 0.1484 - val_accuracy: 0.9500\n",
      "Epoch 11/20\n",
      "286/286 [==============================] - 1s 4ms/step - loss: 0.1667 - accuracy: 0.9392 - val_loss: 0.1375 - val_accuracy: 0.9541\n",
      "Epoch 12/20\n",
      "286/286 [==============================] - 1s 4ms/step - loss: 0.1555 - accuracy: 0.9441 - val_loss: 0.1267 - val_accuracy: 0.9591\n",
      "Epoch 13/20\n",
      "286/286 [==============================] - 1s 4ms/step - loss: 0.1449 - accuracy: 0.9488 - val_loss: 0.1180 - val_accuracy: 0.9629\n",
      "Epoch 14/20\n",
      "286/286 [==============================] - 1s 4ms/step - loss: 0.1353 - accuracy: 0.9533 - val_loss: 0.1096 - val_accuracy: 0.9656\n",
      "Epoch 15/20\n",
      "286/286 [==============================] - 1s 4ms/step - loss: 0.1265 - accuracy: 0.9568 - val_loss: 0.1019 - val_accuracy: 0.9690\n",
      "Epoch 16/20\n",
      "286/286 [==============================] - 1s 4ms/step - loss: 0.1185 - accuracy: 0.9598 - val_loss: 0.0948 - val_accuracy: 0.9710\n",
      "Epoch 17/20\n",
      "286/286 [==============================] - 1s 4ms/step - loss: 0.1107 - accuracy: 0.9632 - val_loss: 0.0887 - val_accuracy: 0.9736\n",
      "Epoch 18/20\n",
      "286/286 [==============================] - 1s 4ms/step - loss: 0.1036 - accuracy: 0.9663 - val_loss: 0.0823 - val_accuracy: 0.9757\n",
      "Epoch 19/20\n",
      "286/286 [==============================] - 1s 4ms/step - loss: 0.0967 - accuracy: 0.9686 - val_loss: 0.0771 - val_accuracy: 0.9771\n",
      "Epoch 20/20\n",
      "286/286 [==============================] - 1s 4ms/step - loss: 0.0903 - accuracy: 0.9714 - val_loss: 0.0719 - val_accuracy: 0.9797\n"
     ]
    }
   ],
   "source": [
    "history = model.fit(X_train,\n",
    "                    y_train,\n",
    "                    epochs=20,\n",
    "                    batch_size=512,\n",
    "                    validation_data=(X_val, y_val),\n",
    "                    verbose=1)"
   ]
  },
  {
   "cell_type": "code",
   "execution_count": 34,
   "id": "14acc57d",
   "metadata": {},
   "outputs": [
    {
     "data": {
      "image/png": "[encoded data removed]",
      "text/plain": [
       "<Figure size 1080x576 with 2 Axes>"
      ]
     },
     "metadata": {
      "needs_background": "light"
     },
     "output_type": "display_data"
    }
   ],
   "source": [
    "history_dict = history.history\n",
    "\n",
    "acc = history_dict['accuracy']\n",
    "val_acc = history_dict['val_accuracy']\n",
    "loss = history_dict['loss']\n",
    "val_loss = history_dict['val_loss']\n",
    "\n",
    "epochs = range(1, len(acc) + 1)\n",
    "\n",
    "\n",
    "plt.figure(figsize=(15, 8))\n",
    "plt.subplot(2, 2, 1)\n",
    "sns.lineplot(x=epochs, y=loss, color='r', linestyle='--', marker='o')\n",
    "sns.lineplot(x=epochs, y=val_loss, color='b', linestyle='-', marker='o')\n",
    "plt.xlabel(\"epochs\")\n",
    "plt.ylabel(\"loss\")\n",
    "plt.title(\"Training and Validation Loss\")\n",
    "plt.legend(labels=['Train loss', 'Val loss'])\n",
    "\n",
    "plt.subplot(2, 2, 2)\n",
    "sns.lineplot(x=epochs, y=acc, color='r', linestyle='--', marker='o')\n",
    "sns.lineplot(x=epochs, y=val_acc, color='b', linestyle='-', marker='o')\n",
    "plt.xlabel(\"epochs\")\n",
    "plt.ylabel(\"acc\")\n",
    "plt.title(\"Training and Validation Accuracy\")\n",
    "plt.legend(labels=['Train acc', 'Val acc'])\n",
    "\n",
    "plt.show()"
   ]
  },
  {
   "cell_type": "code",
   "execution_count": 35,
   "id": "02465d8b",
   "metadata": {},
   "outputs": [
    {
     "name": "stdout",
     "output_type": "stream",
     "text": [
      "1537/1537 - 2s - loss: 0.6502 - accuracy: 0.8214\n",
      "[0.6501539945602417, 0.8213682770729065]\n"
     ]
    }
   ],
   "source": [
    "results = model.evaluate(X_test,  y_test, verbose=2)\n",
    "\n",
    "print(results)"
   ]
  },
  {
   "cell_type": "code",
   "execution_count": null,
   "id": "a418fdf8",
   "metadata": {},
   "outputs": [],
   "source": []
  }
 ],
 "metadata": {
  "kernelspec": {
   "display_name": "Python 3 (ipykernel)",
   "language": "python",
   "name": "python3"
  },
  "language_info": {
   "codemirror_mode": {
    "name": "ipython",
    "version": 3
   },
   "file_extension": ".py",
   "mimetype": "text/x-python",
   "name": "python",
   "nbconvert_exporter": "python",
   "pygments_lexer": "ipython3",
   "version": "3.9.7"
  }
 },
 "nbformat": 4,
 "nbformat_minor": 5
}
