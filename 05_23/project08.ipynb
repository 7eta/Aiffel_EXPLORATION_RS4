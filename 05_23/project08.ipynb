{
 "cells": [
  {
   "cell_type": "markdown",
   "id": "7b15d005",
   "metadata": {},
   "source": [
    "````bash\n",
    "aiffel\n",
    "└── sentiment_classification\n",
    "    ├── project08.ipynb   <─ I am here\n",
    "    └── data\n",
    "        ├── ratings_test.txt\n",
    "        └── ratings_train.txt       \n",
    "````\n",
    "\n",
    "### 사용 라이브러리 버전\n",
    "```pyt|hon\n",
    "pandas.__version__ : 1.3.3\n",
    "konlpy.__version__ : 0.5.2\n",
    "gensim.__version__ : 4.1.2\n",
    "```"
   ]
  },
  {
   "cell_type": "code",
   "execution_count": 1,
   "id": "75bc6846",
   "metadata": {
    "scrolled": false
   },
   "outputs": [
    {
     "data": {
      "text/html": [
       "<div>\n",
       "<style scoped>\n",
       "    .dataframe tbody tr th:only-of-type {\n",
       "        vertical-align: middle;\n",
       "    }\n",
       "\n",
       "    .dataframe tbody tr th {\n",
       "        vertical-align: top;\n",
       "    }\n",
       "\n",
       "    .dataframe thead th {\n",
       "        text-align: right;\n",
       "    }\n",
       "</style>\n",
       "<table border=\"1\" class=\"dataframe\">\n",
       "  <thead>\n",
       "    <tr style=\"text-align: right;\">\n",
       "      <th></th>\n",
       "      <th>id</th>\n",
       "      <th>document</th>\n",
       "      <th>label</th>\n",
       "    </tr>\n",
       "  </thead>\n",
       "  <tbody>\n",
       "    <tr>\n",
       "      <th>0</th>\n",
       "      <td>9976970</td>\n",
       "      <td>아 더빙.. 진짜 짜증나네요 목소리</td>\n",
       "      <td>0</td>\n",
       "    </tr>\n",
       "    <tr>\n",
       "      <th>1</th>\n",
       "      <td>3819312</td>\n",
       "      <td>흠...포스터보고 초딩영화줄....오버연기조차 가볍지 않구나</td>\n",
       "      <td>1</td>\n",
       "    </tr>\n",
       "    <tr>\n",
       "      <th>2</th>\n",
       "      <td>10265843</td>\n",
       "      <td>너무재밓었다그래서보는것을추천한다</td>\n",
       "      <td>0</td>\n",
       "    </tr>\n",
       "    <tr>\n",
       "      <th>3</th>\n",
       "      <td>9045019</td>\n",
       "      <td>교도소 이야기구먼 ..솔직히 재미는 없다..평점 조정</td>\n",
       "      <td>0</td>\n",
       "    </tr>\n",
       "    <tr>\n",
       "      <th>4</th>\n",
       "      <td>6483659</td>\n",
       "      <td>사이몬페그의 익살스런 연기가 돋보였던 영화!스파이더맨에서 늙어보이기만 했던 커스틴 ...</td>\n",
       "      <td>1</td>\n",
       "    </tr>\n",
       "  </tbody>\n",
       "</table>\n",
       "</div>"
      ],
      "text/plain": [
       "         id                                           document  label\n",
       "0   9976970                                아 더빙.. 진짜 짜증나네요 목소리      0\n",
       "1   3819312                  흠...포스터보고 초딩영화줄....오버연기조차 가볍지 않구나      1\n",
       "2  10265843                                  너무재밓었다그래서보는것을추천한다      0\n",
       "3   9045019                      교도소 이야기구먼 ..솔직히 재미는 없다..평점 조정      0\n",
       "4   6483659  사이몬페그의 익살스런 연기가 돋보였던 영화!스파이더맨에서 늙어보이기만 했던 커스틴 ...      1"
      ]
     },
     "execution_count": 1,
     "metadata": {},
     "output_type": "execute_result"
    }
   ],
   "source": [
    "import pandas as pd\n",
    "\n",
    "# 데이터를 읽어봅시다. \n",
    "train_data = pd.read_table('~/aiffel/sentiment_classification/data/ratings_train.txt')\n",
    "test_data = pd.read_table('~/aiffel/sentiment_classification/data/ratings_test.txt')\n",
    "\n",
    "# train_data.shape : (150000, 3)\n",
    "# test_data.shape  :  (50000, 3)\n",
    "# col1 : Id\n",
    "# col2 : document\n",
    "# col3 : labe\n",
    "train_data.head()"
   ]
  },
  {
   "cell_type": "markdown",
   "id": "95f1faf6",
   "metadata": {},
   "source": [
    "### 형태를 확인해봅시다.\n",
    "\n",
    "- `train_data.shape`은 `150,000` rows 와 `3` columns\n",
    "- `test_data.shape`은 `50,000` row와 `3` columns\n",
    "\n",
    "\n"
   ]
  },
  {
   "cell_type": "code",
   "execution_count": 2,
   "id": "f6922dc4",
   "metadata": {},
   "outputs": [
    {
     "name": "stdout",
     "output_type": "stream",
     "text": [
      "(150000, 3)\n",
      "(50000, 3)\n"
     ]
    }
   ],
   "source": [
    "print(train_data.shape)\n",
    "print(test_data.shape)"
   ]
  },
  {
   "cell_type": "code",
   "execution_count": 3,
   "id": "3cb38f99",
   "metadata": {},
   "outputs": [],
   "source": [
    "import matplotlib.pyplot as plt\n",
    "\n"
   ]
  },
  {
   "cell_type": "markdown",
   "id": "c9d8e712",
   "metadata": {},
   "source": [
    "### 자신만의 data_loader를 만들어보자.\n",
    "- 데이터 중복 제거\n",
    "- NaN 결측치 제거\n",
    "- 한국어 토크나이저로 토큰화\n",
    "- 불용어 제거\n",
    "- 사전 word_to_index 구성\n",
    "- 텍스트 스트링을 사전 인덱스 스트링으로 변환\n",
    "- X_train, y_train, X_test, y_test, word_to_index 리턴"
   ]
  },
  {
   "cell_type": "code",
   "execution_count": 4,
   "id": "08e4d751",
   "metadata": {},
   "outputs": [],
   "source": [
    "from konlpy.tag import Mecab\n",
    "import numpy as np\n",
    "from collections import Counter"
   ]
  },
  {
   "cell_type": "code",
   "execution_count": 5,
   "id": "2cbc35fb",
   "metadata": {},
   "outputs": [],
   "source": [
    "# 형태소 분석기 Mecab룰 통한 토크나이저\n",
    "tokenizer = Mecab()"
   ]
  },
  {
   "cell_type": "code",
   "execution_count": 6,
   "id": "fc3e27c0",
   "metadata": {},
   "outputs": [],
   "source": [
    "# 불용어 제거\n",
    "stopwords = ['의','가','이','은','들','는','좀','잘','걍','과','도','를','으로','자','에','와','한','하다']"
   ]
  },
  {
   "cell_type": "code",
   "execution_count": 7,
   "id": "d5ed3bd4",
   "metadata": {},
   "outputs": [],
   "source": [
    "def load_data(train_data, test_data, num_words=None):\n",
    "    # train, test 데이터내 중복 제거 및 결측치 제거\n",
    "    train_data.drop_duplicates(subset=['document'], inplace=True)\n",
    "    train_data = train_data.dropna(how = 'any') \n",
    "    test_data.drop_duplicates(subset=['document'], inplace=True)\n",
    "    test_data = test_data.dropna(how = 'any') \n",
    "    \n",
    "    X_train = []\n",
    "    for sentence in train_data['document']:\n",
    "        temp_X = tokenizer.morphs(sentence) # 토큰화\n",
    "        temp_X = [word for word in temp_X if not word in stopwords] # 불용어 제거\n",
    "        X_train.append(temp_X)\n",
    "\n",
    "    X_test = []\n",
    "    for sentence in test_data['document']:\n",
    "        temp_X = tokenizer.morphs(sentence) # 토큰화\n",
    "        temp_X = [word for word in temp_X if not word in stopwords] # 불용어 제거\n",
    "        X_test.append(temp_X)\n",
    "        \n",
    "    # 1차원의 list 형태로 변환\n",
    "    # Before : [['가', '가', '나', '다'], ['가', '라', '마'], ['마', '사']]\n",
    "    # After  : ['가', '가', '나', '다', '가', '라', '마', '마', '사']\n",
    "    words = np.concatenate(X_train).tolist()\n",
    "\n",
    "    # 위에서 변환된 ['가', '가', '나', '다', '가', '라', '마', '마', '사'] list가 있다고 할때\n",
    "    # Counter()를 거치고 나면 Counter({'가': 3, '마': 2, '나': 1, '다': 1, '라': 1, '사': 1}) 객체가 된다.\n",
    "    # Counter객체를 most_common(3)함수를 사용하면 최빈값 3번째 까지 리스트에 담긴 튜플 형태로 반환된다.\n",
    "    # output : [('가', 3), ('마', 2), ('나', 1)]\n",
    "    counter = Counter(words)\n",
    "    counter = counter.most_common(num_words-4)\n",
    "    \n",
    "    # counter = [('가', 3), ('마', 2), ('나', 1)] 일때\n",
    "    # [k for k, _ in counter]의 output은 ['가', '마', '나']이 된다.\n",
    "    # 같은 차원의 리스트 합 연산은 ['', ''] + ['가', '마', '나'] => ['', '', '가', '마', '나']형태가 된다.\n",
    "    vocab = ['', '', '', ''] + [key for key, _ in counter]\n",
    "    word_to_index = {word:index for index, word in enumerate(vocab)}\n",
    "        \n",
    "    def wordlist_to_indexlist(wordlist):\n",
    "        return [word_to_index[word] if word in word_to_index else word_to_index[''] for word in wordlist]\n",
    "        \n",
    "    X_train = list(map(wordlist_to_indexlist, X_train))\n",
    "    X_test = list(map(wordlist_to_indexlist, X_test))\n",
    "        \n",
    "    return X_train, np.array(list(train_data['label'])), X_test, np.array(list(test_data['label'])), word_to_index"
   ]
  },
  {
   "cell_type": "code",
   "execution_count": 8,
   "id": "94a1bf14",
   "metadata": {
    "scrolled": false
   },
   "outputs": [],
   "source": [
    "X_train, y_train, X_test, y_test, word_to_index = load_data(train_data, test_data, 10000) "
   ]
  },
  {
   "cell_type": "code",
   "execution_count": 9,
   "id": "5bbbca04",
   "metadata": {},
   "outputs": [],
   "source": [
    "index_to_word = {index:word for word, index in word_to_index.items()}"
   ]
  },
  {
   "cell_type": "code",
   "execution_count": 10,
   "id": "0da9af63",
   "metadata": {},
   "outputs": [],
   "source": [
    "# 문장 1개를 활용할 딕셔너리와 함께 주면, 단어 인덱스 리스트 벡터로 변환해 주는 함수입니다. \n",
    "# 단, 모든 문장은 <BOS>로 시작하는 것으로 합니다. \n",
    "def get_encoded_sentence(sentence, word_to_index):\n",
    "    return [word_to_index['<BOS>']]+[word_to_index[word] if word in word_to_index else word_to_index['<UNK>'] for word in sentence.split()]\n",
    "\n",
    "# 여러 개의 문장 리스트를 한꺼번에 단어 인덱스 리스트 벡터로 encode해 주는 함수입니다. \n",
    "def get_encoded_sentences(sentences, word_to_index):\n",
    "    return [get_encoded_sentence(sentence, word_to_index) for sentence in sentences]\n",
    "\n",
    "# 숫자 벡터로 encode된 문장을 원래대로 decode하는 함수입니다. \n",
    "def get_decoded_sentence(encoded_sentence, index_to_word):\n",
    "    return ' '.join(index_to_word[index] if index in index_to_word else '<UNK>' for index in encoded_sentence[1:])  #[1:]를 통해 <BOS>를 제외\n",
    "\n",
    "# 여러 개의 숫자 벡터로 encode된 문장을 한꺼번에 원래대로 decode하는 함수입니다. \n",
    "def get_decoded_sentences(encoded_sentences, index_to_word):\n",
    "    return [get_decoded_sentence(encoded_sentence, index_to_word) for encoded_sentence in encoded_sentences]"
   ]
  },
  {
   "cell_type": "code",
   "execution_count": 11,
   "id": "4bb4fdf5",
   "metadata": {},
   "outputs": [
    {
     "name": "stdout",
     "output_type": "stream",
     "text": [
      "<BOS>\n"
     ]
    }
   ],
   "source": [
    "#실제 인코딩 인덱스는 제공된 word_to_index에서 index 기준으로 3씩 뒤로 밀려 있습니다.  \n",
    "# 딕셔너리는 { 단어 : Index번호 }순으로 되어 있다.\n",
    "# dic = {'':0, '':1, '':2, '':3, '가':4, '나':5}\n",
    "# {k:(v+1) for k,v in dic.items()}을 거치면 {'': 4, '가': 5, '나': 6} 형태가 된다.\n",
    "word_to_index = {k:(v+1) for k,v in word_to_index.items()}\n",
    "\n",
    "# 처음 몇 개 인덱스는 사전에 정의되어 있습니다\n",
    "# 딕셔너리 맨 뒤에 아래 4개의 새로운 key-value를 추가합니다.\n",
    "# 아래 4개의 key-value는 맨 뒤에 붙는다.\n",
    "word_to_index[\"<PAD>\"] = 0\n",
    "word_to_index[\"<BOS>\"] = 1\n",
    "word_to_index[\"<UNK>\"] = 2  # unknown\n",
    "word_to_index[\"<UNUSED>\"] = 3\n",
    "\n",
    "index_to_word[0] = \"<PAD>\"\n",
    "index_to_word[1] = \"<BOS>\"\n",
    "index_to_word[2] = \"<UNK>\"\n",
    "index_to_word[3] = \"<UNUSED>\"\n",
    "\n",
    "index_to_word = {index:word for word, index in word_to_index.items()}\n",
    "\n",
    "print(index_to_word[1])     # '<BOS>' 가 출력됩니다."
   ]
  },
  {
   "cell_type": "code",
   "execution_count": 12,
   "id": "fd6697fb",
   "metadata": {},
   "outputs": [
    {
     "name": "stderr",
     "output_type": "stream",
     "text": [
      "<__array_function__ internals>:5: VisibleDeprecationWarning: Creating an ndarray from ragged nested sequences (which is a list-or-tuple of lists-or-tuples-or ndarrays with different lengths or shapes) is deprecated. If you meant to do this, you must specify 'dtype=object' when creating the ndarray.\n"
     ]
    }
   ],
   "source": [
    "# X_Train, X_Test를 하나의 list에 통합.\n",
    "# [[1, 33, 22, 13], [11, 23]] 와 [[32, 11, 23]] = [[1, 33, 22, 13], [11, 23], [32, 11, 23]]\n",
    "total_train_text = np.concatenate((X_train, X_test), axis=0).tolist()\n",
    "\n",
    "# total_train_text의 개별 list의 길이를 개별로 구축\n",
    "sep_len_ttt = np.array([len(tokens) for tokens in total_train_text])"
   ]
  },
  {
   "cell_type": "code",
   "execution_count": 13,
   "id": "79c0019f",
   "metadata": {},
   "outputs": [
    {
     "data": {
      "image/png": "[encoded data removed]",
      "text/plain": [
       "<Figure size 360x360 with 1 Axes>"
      ]
     },
     "metadata": {
      "needs_background": "light"
     },
     "output_type": "display_data"
    }
   ],
   "source": [
    "import matplotlib.pyplot as plt\n",
    "import seaborn as sns\n",
    "\n",
    "dst = sns.displot(data=sep_len_ttt)\n",
    "dst.set(title=\"length of documents column\").set_xlabels('length of documents')\n",
    "plt.show()"
   ]
  },
  {
   "cell_type": "code",
   "execution_count": 14,
   "id": "5007116b",
   "metadata": {
    "scrolled": true
   },
   "outputs": [
    {
     "name": "stdout",
     "output_type": "stream",
     "text": [
      " 0부터 Max까지 빈도 수 \n",
      "[    5  1015  2554  4951  6936  9580 11741 12441 11822 10907 10287  9531\n",
      "  8928  8253  7868  7440  6823  6258  5535  4869  4312  3746  3136  2653\n",
      "  2242  1993  1688  1512  1376  1270  1241  1108  1074   947   951   927\n",
      "   814   854   763   714   728   712   623   583   580   537   593   576\n",
      "   528   499   547   560   573   587   597   583   569   567   539   455\n",
      "   438   409   358   306   254   193   171   132    97    88    58    63\n",
      "    39    26    15    26    22     8     8     7     4     2     2     1\n",
      "     1     1     2     0     2     0     0     0     0     1     0     0\n",
      "     0     0     0     0     0     0     0     0     0     1     1     0\n",
      "     0     0     0     0     0     0     0     1     1]\n",
      " 최빈수 : 7\n",
      " 특이값(outlier) : 116\n",
      " 중앙값(median) : 12.0\n",
      " 평균(mean) : 15.96940191154864\n",
      " 표준편차(sigma) : 12.843571191092\n"
     ]
    }
   ],
   "source": [
    "# 최빈값을 구하기 위해 Numpy의 bincount와 argmax를 이용\n",
    "\n",
    "print(f\" 0부터 Max까지 빈도 수 \\n{np.bincount(sep_len_ttt)}\")\n",
    "print(f\" 최빈수 : {np.bincount(sep_len_ttt).argmax()}\")\n",
    "print(f\" 특이값(outlier) : {np.max(sep_len_ttt)}\")\n",
    "print(f\" 중앙값(median) : {np.median(sep_len_ttt)}\")\n",
    "print(f\" 평균(mean) : {np.mean(sep_len_ttt)}\")\n",
    "print(f\" 표준편차(sigma) : {np.std(sep_len_ttt)}\")"
   ]
  },
  {
   "cell_type": "markdown",
   "id": "65d0d119",
   "metadata": {},
   "source": [
    "#### 분포 해석\n",
    "- 데이터가 오른쪽 꼬리 분포이므로 평균이 아닌 중앙값을 이용하여 최대 길이를 선정\n",
    "    - 중앙값(median)은 이상치(outlier)의 영향을 받지 않는다."
   ]
  },
  {
   "cell_type": "markdown",
   "id": "c33846bd",
   "metadata": {},
   "source": [
    "## 1. RNN(LSTM)으로 모델 돌려보기"
   ]
  },
  {
   "cell_type": "code",
   "execution_count": 15,
   "id": "9fecfb80",
   "metadata": {},
   "outputs": [],
   "source": [
    "import tensorflow as tf"
   ]
  },
  {
   "cell_type": "markdown",
   "id": "ae96518e",
   "metadata": {},
   "source": [
    "X_train과 X_test를 <u>문장앞</u>에 패딩(`<PAD>`)을 추가하여 일정한 길이를 맞춘다."
   ]
  },
  {
   "cell_type": "code",
   "execution_count": 16,
   "id": "bcb38caf",
   "metadata": {
    "scrolled": true
   },
   "outputs": [],
   "source": [
    "X_train = tf.keras.preprocessing.sequence.pad_sequences(X_train,\n",
    "                                                        value=word_to_index[\"<PAD>\"],\n",
    "                                                        padding='pre',\n",
    "                                                        maxlen=30)\n",
    "\n",
    "X_test = tf.keras.preprocessing.sequence.pad_sequences(X_test,\n",
    "                                                       value=word_to_index[\"<PAD>\"],\n",
    "                                                       padding='pre',\n",
    "                                                       maxlen=30)"
   ]
  },
  {
   "cell_type": "code",
   "execution_count": null,
   "id": "9b5aad8f",
   "metadata": {},
   "outputs": [],
   "source": []
  },
  {
   "cell_type": "code",
   "execution_count": 17,
   "id": "4875215d",
   "metadata": {},
   "outputs": [
    {
     "name": "stdout",
     "output_type": "stream",
     "text": [
      "Model: \"sequential\"\n",
      "_________________________________________________________________\n",
      "Layer (type)                 Output Shape              Param #   \n",
      "=================================================================\n",
      "embedding (Embedding)        (None, None, 30)          300000    \n",
      "_________________________________________________________________\n",
      "lstm (LSTM)                  (None, 15)                2760      \n",
      "_________________________________________________________________\n",
      "dense (Dense)                (None, 8)                 128       \n",
      "_________________________________________________________________\n",
      "dense_1 (Dense)              (None, 1)                 9         \n",
      "=================================================================\n",
      "Total params: 302,897\n",
      "Trainable params: 302,897\n",
      "Non-trainable params: 0\n",
      "_________________________________________________________________\n"
     ]
    }
   ],
   "source": [
    "vocab_size = 10000    # 어휘 사전의 크기입니다(10,000개의 단어)\n",
    "word_vector_dim = 30  # 워드 벡터의 차원 수 (변경 가능한 하이퍼파라미터)\n",
    "\n",
    "# model 설계 - 딥러닝 모델 코드를 직접 작성해 주세요.\n",
    "model = tf.keras.Sequential()\n",
    "model.add(tf.keras.layers.Embedding(vocab_size, word_vector_dim, input_shape=(None,)))\n",
    "model.add(tf.keras.layers.LSTM(15))   # 가장 널리 쓰이는 RNN인 LSTM 레이어를 사용하였습니다. 이때 LSTM state 벡터의 차원수는 8로 하였습니다. (변경 가능)\n",
    "model.add(tf.keras.layers.Dense(8, activation='relu'))\n",
    "model.add(tf.keras.layers.Dense(1, activation='sigmoid'))  # 최종 출력은 긍정/부정을 나타내는 1dim 입니다.\n",
    "\n",
    "model.summary()"
   ]
  },
  {
   "cell_type": "markdown",
   "id": "c2e86c6f",
   "metadata": {},
   "source": [
    "### 학습용, 검증용, 시험용 데이터셋 구분\n",
    "- 모델 합습에 사용되는 `Train set`과 학습 완료 후 모델 검증을 위한 `Validation(Val) set` 그리고 마지막으로 학습과 검증 완료 후 모델의 최종 성능 평가를 위한 `Test set` 으로 나눈다."
   ]
  },
  {
   "cell_type": "code",
   "execution_count": 18,
   "id": "06833ce8",
   "metadata": {},
   "outputs": [
    {
     "name": "stdout",
     "output_type": "stream",
     "text": [
      "146182\n",
      "49157\n"
     ]
    }
   ],
   "source": [
    "print(len(X_train))\n",
    "print(len(X_test))"
   ]
  },
  {
   "cell_type": "code",
   "execution_count": 19,
   "id": "a4a1c45e",
   "metadata": {
    "scrolled": true
   },
   "outputs": [
    {
     "name": "stdout",
     "output_type": "stream",
     "text": [
      "146182\n",
      "49157\n"
     ]
    }
   ],
   "source": [
    "print(len(y_train))\n",
    "print(len(y_test))"
   ]
  },
  {
   "cell_type": "code",
   "execution_count": 20,
   "id": "ceec99cd",
   "metadata": {},
   "outputs": [],
   "source": [
    "X_val = X_train[:49157]\n",
    "y_val = y_train[:49157]\n",
    "\n",
    "partial_X_train = X_train[49157:]  \n",
    "partial_y_train = y_train[49157:]"
   ]
  },
  {
   "cell_type": "code",
   "execution_count": 21,
   "id": "3c5136d4",
   "metadata": {},
   "outputs": [],
   "source": [
    "model.compile(optimizer='adam',\n",
    "              loss='binary_crossentropy',\n",
    "              metrics=['accuracy'])"
   ]
  },
  {
   "cell_type": "code",
   "execution_count": 22,
   "id": "515b5ee9",
   "metadata": {
    "scrolled": true
   },
   "outputs": [
    {
     "name": "stdout",
     "output_type": "stream",
     "text": [
      "Epoch 1/25\n",
      "190/190 [==============================] - 30s 9ms/step - loss: 0.5056 - accuracy: 0.7601 - val_loss: 0.3630 - val_accuracy: 0.8434\n",
      "Epoch 2/25\n",
      "190/190 [==============================] - 1s 6ms/step - loss: 0.3404 - accuracy: 0.8557 - val_loss: 0.3479 - val_accuracy: 0.8493\n",
      "Epoch 3/25\n",
      "190/190 [==============================] - 1s 6ms/step - loss: 0.3097 - accuracy: 0.8706 - val_loss: 0.3464 - val_accuracy: 0.8504\n",
      "Epoch 4/25\n",
      "190/190 [==============================] - 1s 6ms/step - loss: 0.2902 - accuracy: 0.8802 - val_loss: 0.3519 - val_accuracy: 0.8491\n",
      "Epoch 5/25\n",
      "190/190 [==============================] - 1s 6ms/step - loss: 0.2720 - accuracy: 0.8887 - val_loss: 0.3631 - val_accuracy: 0.8483\n",
      "Epoch 6/25\n",
      "190/190 [==============================] - 1s 6ms/step - loss: 0.2571 - accuracy: 0.8957 - val_loss: 0.3672 - val_accuracy: 0.8471\n",
      "Epoch 7/25\n",
      "190/190 [==============================] - 1s 6ms/step - loss: 0.2434 - accuracy: 0.9017 - val_loss: 0.3792 - val_accuracy: 0.8448\n",
      "Epoch 8/25\n",
      "190/190 [==============================] - 1s 6ms/step - loss: 0.2303 - accuracy: 0.9072 - val_loss: 0.4058 - val_accuracy: 0.8447\n",
      "Epoch 9/25\n",
      "190/190 [==============================] - 1s 6ms/step - loss: 0.2181 - accuracy: 0.9126 - val_loss: 0.4088 - val_accuracy: 0.8400\n",
      "Epoch 10/25\n",
      "190/190 [==============================] - 1s 6ms/step - loss: 0.2069 - accuracy: 0.9175 - val_loss: 0.4357 - val_accuracy: 0.8397\n",
      "Epoch 11/25\n",
      "190/190 [==============================] - 1s 6ms/step - loss: 0.1960 - accuracy: 0.9221 - val_loss: 0.4542 - val_accuracy: 0.8380\n",
      "Epoch 12/25\n",
      "190/190 [==============================] - 1s 6ms/step - loss: 0.1874 - accuracy: 0.9272 - val_loss: 0.4700 - val_accuracy: 0.8391\n",
      "Epoch 13/25\n",
      "190/190 [==============================] - 1s 6ms/step - loss: 0.1774 - accuracy: 0.9306 - val_loss: 0.4970 - val_accuracy: 0.8383\n",
      "Epoch 14/25\n",
      "190/190 [==============================] - 1s 6ms/step - loss: 0.1676 - accuracy: 0.9363 - val_loss: 0.5243 - val_accuracy: 0.8374\n",
      "Epoch 15/25\n",
      "190/190 [==============================] - 1s 6ms/step - loss: 0.1590 - accuracy: 0.9395 - val_loss: 0.5570 - val_accuracy: 0.8347\n",
      "Epoch 16/25\n",
      "190/190 [==============================] - 1s 6ms/step - loss: 0.1519 - accuracy: 0.9424 - val_loss: 0.5583 - val_accuracy: 0.8340\n",
      "Epoch 17/25\n",
      "190/190 [==============================] - 1s 6ms/step - loss: 0.1465 - accuracy: 0.9446 - val_loss: 0.5748 - val_accuracy: 0.8326\n",
      "Epoch 18/25\n",
      "190/190 [==============================] - 1s 6ms/step - loss: 0.1395 - accuracy: 0.9482 - val_loss: 0.5957 - val_accuracy: 0.8302\n",
      "Epoch 19/25\n",
      "190/190 [==============================] - 1s 6ms/step - loss: 0.1335 - accuracy: 0.9513 - val_loss: 0.6212 - val_accuracy: 0.8323\n",
      "Epoch 20/25\n",
      "190/190 [==============================] - 1s 6ms/step - loss: 0.1288 - accuracy: 0.9527 - val_loss: 0.6359 - val_accuracy: 0.8298\n",
      "Epoch 21/25\n",
      "190/190 [==============================] - 1s 6ms/step - loss: 0.1245 - accuracy: 0.9553 - val_loss: 0.6572 - val_accuracy: 0.8301\n",
      "Epoch 22/25\n",
      "190/190 [==============================] - 1s 6ms/step - loss: 0.1178 - accuracy: 0.9576 - val_loss: 0.6910 - val_accuracy: 0.8274\n",
      "Epoch 23/25\n",
      "190/190 [==============================] - 1s 6ms/step - loss: 0.1134 - accuracy: 0.9591 - val_loss: 0.6918 - val_accuracy: 0.8260\n",
      "Epoch 24/25\n",
      "190/190 [==============================] - 1s 6ms/step - loss: 0.1107 - accuracy: 0.9602 - val_loss: 0.7494 - val_accuracy: 0.8263\n",
      "Epoch 25/25\n",
      "190/190 [==============================] - 1s 6ms/step - loss: 0.1038 - accuracy: 0.9629 - val_loss: 0.7559 - val_accuracy: 0.8281\n"
     ]
    }
   ],
   "source": [
    "history = model.fit(partial_X_train,\n",
    "                    partial_y_train,\n",
    "                    epochs=25,\n",
    "                    batch_size=512,\n",
    "                    validation_data=(X_val, y_val),\n",
    "                    verbose=1)"
   ]
  },
  {
   "cell_type": "code",
   "execution_count": 23,
   "id": "a35a9f96",
   "metadata": {},
   "outputs": [
    {
     "name": "stdout",
     "output_type": "stream",
     "text": [
      "1537/1537 - 3s - loss: 0.7622 - accuracy: 0.8228\n",
      "[0.76219642162323, 0.8227719068527222]\n"
     ]
    }
   ],
   "source": [
    "results = model.evaluate(X_test,  y_test, verbose=2)\n",
    "\n",
    "print(results)"
   ]
  },
  {
   "cell_type": "code",
   "execution_count": 24,
   "id": "0a7e4c2d",
   "metadata": {
    "scrolled": true
   },
   "outputs": [
    {
     "data": {
      "image/png": "[encoded data removed]",
      "text/plain": [
       "<Figure size 1080x576 with 2 Axes>"
      ]
     },
     "metadata": {
      "needs_background": "light"
     },
     "output_type": "display_data"
    }
   ],
   "source": [
    "history_dict = history.history\n",
    "\n",
    "acc = history_dict['accuracy']\n",
    "val_acc = history_dict['val_accuracy']\n",
    "loss = history_dict['loss']\n",
    "val_loss = history_dict['val_loss']\n",
    "\n",
    "epochs = range(1, len(acc) + 1)\n",
    "\n",
    "\n",
    "plt.figure(figsize=(15, 8))\n",
    "plt.subplot(2, 2, 1)\n",
    "sns.lineplot(x=epochs, y=loss, color='r', linestyle='--', marker='o')\n",
    "sns.lineplot(x=epochs, y=val_loss, color='b', linestyle='-', marker='o')\n",
    "plt.xlabel(\"epochs\")\n",
    "plt.ylabel(\"loss\")\n",
    "plt.title(\"Training and Validation Loss\")\n",
    "plt.legend(labels=['Train loss', 'Val loss'])\n",
    "\n",
    "plt.subplot(2, 2, 2)\n",
    "sns.lineplot(x=epochs, y=acc, color='r', linestyle='--', marker='o')\n",
    "sns.lineplot(x=epochs, y=val_acc, color='b', linestyle='-', marker='o')\n",
    "plt.xlabel(\"epochs\")\n",
    "plt.ylabel(\"acc\")\n",
    "plt.title(\"Training and Validation Accuracy\")\n",
    "plt.legend(labels=['Train acc', 'Val acc'])\n",
    "\n",
    "plt.show()"
   ]
  },
  {
   "cell_type": "code",
   "execution_count": 25,
   "id": "a1881c53",
   "metadata": {},
   "outputs": [
    {
     "name": "stdout",
     "output_type": "stream",
     "text": [
      "1537/1537 - 3s - loss: 0.7622 - accuracy: 0.8228\n",
      "[0.76219642162323, 0.8227719068527222]\n"
     ]
    }
   ],
   "source": [
    "results = model.evaluate(X_test,  y_test, verbose=2)\n",
    "\n",
    "print(results)"
   ]
  },
  {
   "cell_type": "markdown",
   "id": "cc292c01",
   "metadata": {},
   "source": [
    "### LSTM 결과\n",
    "\n",
    "오히려 epoch이 늘어남에 따라 검증용 데이터에 대한 정확도가 줄어듬을 볼 수 있었다.\n",
    "\n",
    "Train과 Val ACC가 2번째 epoch 이후 Validation Acc가 줄어드는 것으로 보아, 과적합(오버피팅)이 발생함을 알 수 있다."
   ]
  },
  {
   "cell_type": "markdown",
   "id": "edbaa9ec",
   "metadata": {},
   "source": [
    "## 2. RNN이 아닌 방법으로 모델 돌려보기\n",
    "\n",
    "### 2-1. CNN(1-D)으로 모델 돌려보기"
   ]
  },
  {
   "cell_type": "code",
   "execution_count": 26,
   "id": "1216f6a2",
   "metadata": {},
   "outputs": [
    {
     "name": "stdout",
     "output_type": "stream",
     "text": [
      "Model: \"sequential_1\"\n",
      "_________________________________________________________________\n",
      "Layer (type)                 Output Shape              Param #   \n",
      "=================================================================\n",
      "embedding_1 (Embedding)      (None, None, 30)          300000    \n",
      "_________________________________________________________________\n",
      "conv1d (Conv1D)              (None, None, 16)          1936      \n",
      "_________________________________________________________________\n",
      "max_pooling1d (MaxPooling1D) (None, None, 16)          0         \n",
      "_________________________________________________________________\n",
      "conv1d_1 (Conv1D)            (None, None, 16)          1040      \n",
      "_________________________________________________________________\n",
      "global_max_pooling1d (Global (None, 16)                0         \n",
      "_________________________________________________________________\n",
      "dense_2 (Dense)              (None, 8)                 136       \n",
      "_________________________________________________________________\n",
      "dense_3 (Dense)              (None, 1)                 9         \n",
      "=================================================================\n",
      "Total params: 303,121\n",
      "Trainable params: 303,121\n",
      "Non-trainable params: 0\n",
      "_________________________________________________________________\n"
     ]
    }
   ],
   "source": [
    "model = tf.keras.Sequential()\n",
    "model.add(tf.keras.layers.Embedding(vocab_size, word_vector_dim, input_shape=(None,)))\n",
    "model.add(tf.keras.layers.Conv1D(16, 4, activation='relu'))\n",
    "model.add(tf.keras.layers.MaxPooling1D(5))\n",
    "model.add(tf.keras.layers.Conv1D(16, 4, activation='relu'))\n",
    "model.add(tf.keras.layers.GlobalMaxPooling1D())\n",
    "model.add(tf.keras.layers.Dense(8, activation='relu'))\n",
    "model.add(tf.keras.layers.Dense(1, activation='sigmoid'))  # 최종 출력은 긍정/부정을 나타내는 1dim 입니다.\n",
    "\n",
    "model.summary()"
   ]
  },
  {
   "cell_type": "code",
   "execution_count": 27,
   "id": "4f0318e7",
   "metadata": {},
   "outputs": [],
   "source": [
    "model.compile(optimizer='adam',\n",
    "              loss='binary_crossentropy',\n",
    "              metrics=['accuracy'])"
   ]
  },
  {
   "cell_type": "code",
   "execution_count": 28,
   "id": "b9a92022",
   "metadata": {},
   "outputs": [
    {
     "name": "stdout",
     "output_type": "stream",
     "text": [
      "Epoch 1/25\n",
      "190/190 [==============================] - 17s 7ms/step - loss: 0.5452 - accuracy: 0.7274 - val_loss: 0.4081 - val_accuracy: 0.8096\n",
      "Epoch 2/25\n",
      "190/190 [==============================] - 1s 5ms/step - loss: 0.3749 - accuracy: 0.8322 - val_loss: 0.3941 - val_accuracy: 0.8183\n",
      "Epoch 3/25\n",
      "190/190 [==============================] - 1s 5ms/step - loss: 0.3319 - accuracy: 0.8555 - val_loss: 0.3959 - val_accuracy: 0.8185\n",
      "Epoch 4/25\n",
      "190/190 [==============================] - 1s 5ms/step - loss: 0.2945 - accuracy: 0.8747 - val_loss: 0.4106 - val_accuracy: 0.8158\n",
      "Epoch 5/25\n",
      "190/190 [==============================] - 1s 5ms/step - loss: 0.2567 - accuracy: 0.8946 - val_loss: 0.4322 - val_accuracy: 0.8137\n",
      "Epoch 6/25\n",
      "190/190 [==============================] - 1s 5ms/step - loss: 0.2165 - accuracy: 0.9143 - val_loss: 0.4683 - val_accuracy: 0.8085\n",
      "Epoch 7/25\n",
      "190/190 [==============================] - 1s 6ms/step - loss: 0.1794 - accuracy: 0.9308 - val_loss: 0.5134 - val_accuracy: 0.8046\n",
      "Epoch 8/25\n",
      "190/190 [==============================] - 1s 5ms/step - loss: 0.1462 - accuracy: 0.9436 - val_loss: 0.5678 - val_accuracy: 0.7989\n",
      "Epoch 9/25\n",
      "190/190 [==============================] - 1s 5ms/step - loss: 0.1212 - accuracy: 0.9541 - val_loss: 0.6214 - val_accuracy: 0.7969\n",
      "Epoch 10/25\n",
      "190/190 [==============================] - 1s 5ms/step - loss: 0.1027 - accuracy: 0.9606 - val_loss: 0.6828 - val_accuracy: 0.7946\n",
      "Epoch 11/25\n",
      "190/190 [==============================] - 1s 5ms/step - loss: 0.0882 - accuracy: 0.9664 - val_loss: 0.7444 - val_accuracy: 0.7909\n",
      "Epoch 12/25\n",
      "190/190 [==============================] - 1s 5ms/step - loss: 0.0769 - accuracy: 0.9699 - val_loss: 0.7971 - val_accuracy: 0.7889\n",
      "Epoch 13/25\n",
      "190/190 [==============================] - 1s 5ms/step - loss: 0.0679 - accuracy: 0.9728 - val_loss: 0.8623 - val_accuracy: 0.7875\n",
      "Epoch 14/25\n",
      "190/190 [==============================] - 1s 6ms/step - loss: 0.0619 - accuracy: 0.9749 - val_loss: 0.9362 - val_accuracy: 0.7871\n",
      "Epoch 15/25\n",
      "190/190 [==============================] - 1s 6ms/step - loss: 0.0579 - accuracy: 0.9764 - val_loss: 0.9925 - val_accuracy: 0.7834\n",
      "Epoch 16/25\n",
      "190/190 [==============================] - 1s 5ms/step - loss: 0.0533 - accuracy: 0.9774 - val_loss: 1.0215 - val_accuracy: 0.7830\n",
      "Epoch 17/25\n",
      "190/190 [==============================] - 1s 5ms/step - loss: 0.0498 - accuracy: 0.9788 - val_loss: 1.0830 - val_accuracy: 0.7828\n",
      "Epoch 18/25\n",
      "190/190 [==============================] - 1s 5ms/step - loss: 0.0479 - accuracy: 0.9786 - val_loss: 1.1372 - val_accuracy: 0.7810\n",
      "Epoch 19/25\n",
      "190/190 [==============================] - 1s 5ms/step - loss: 0.0473 - accuracy: 0.9789 - val_loss: 1.1791 - val_accuracy: 0.7813\n",
      "Epoch 20/25\n",
      "190/190 [==============================] - 1s 5ms/step - loss: 0.0455 - accuracy: 0.9796 - val_loss: 1.2276 - val_accuracy: 0.7810\n",
      "Epoch 21/25\n",
      "190/190 [==============================] - 1s 5ms/step - loss: 0.0437 - accuracy: 0.9796 - val_loss: 1.2637 - val_accuracy: 0.7800\n",
      "Epoch 22/25\n",
      "190/190 [==============================] - 1s 5ms/step - loss: 0.0433 - accuracy: 0.9798 - val_loss: 1.3542 - val_accuracy: 0.7756\n",
      "Epoch 23/25\n",
      "190/190 [==============================] - 1s 5ms/step - loss: 0.0441 - accuracy: 0.9799 - val_loss: 1.3510 - val_accuracy: 0.7796\n",
      "Epoch 24/25\n",
      "190/190 [==============================] - 1s 5ms/step - loss: 0.0438 - accuracy: 0.9797 - val_loss: 1.4050 - val_accuracy: 0.7771\n",
      "Epoch 25/25\n",
      "190/190 [==============================] - 1s 5ms/step - loss: 0.0428 - accuracy: 0.9793 - val_loss: 1.4400 - val_accuracy: 0.7772\n"
     ]
    }
   ],
   "source": [
    "history = model.fit(partial_X_train,\n",
    "                    partial_y_train,\n",
    "                    epochs=25,\n",
    "                    batch_size=512,\n",
    "                    validation_data=(X_val, y_val),\n",
    "                    verbose=1)"
   ]
  },
  {
   "cell_type": "code",
   "execution_count": 29,
   "id": "15dc9cad",
   "metadata": {},
   "outputs": [
    {
     "data": {
      "image/png": "[encoded data removed]",
      "text/plain": [
       "<Figure size 1080x576 with 2 Axes>"
      ]
     },
     "metadata": {
      "needs_background": "light"
     },
     "output_type": "display_data"
    }
   ],
   "source": [
    "history_dict = history.history\n",
    "\n",
    "acc = history_dict['accuracy']\n",
    "val_acc = history_dict['val_accuracy']\n",
    "loss = history_dict['loss']\n",
    "val_loss = history_dict['val_loss']\n",
    "\n",
    "epochs = range(1, len(acc) + 1)\n",
    "\n",
    "\n",
    "plt.figure(figsize=(15, 8))\n",
    "plt.subplot(2, 2, 1)\n",
    "sns.lineplot(x=epochs, y=loss, color='r', linestyle='--', marker='o')\n",
    "sns.lineplot(x=epochs, y=val_loss, color='b', linestyle='-', marker='o')\n",
    "plt.xlabel(\"epochs\")\n",
    "plt.ylabel(\"loss\")\n",
    "plt.title(\"Training and Validation Loss\")\n",
    "plt.legend(labels=['Train loss', 'Val loss'])\n",
    "\n",
    "plt.subplot(2, 2, 2)\n",
    "sns.lineplot(x=epochs, y=acc, color='r', linestyle='--', marker='o')\n",
    "sns.lineplot(x=epochs, y=val_acc, color='b', linestyle='-', marker='o')\n",
    "plt.xlabel(\"epochs\")\n",
    "plt.ylabel(\"acc\")\n",
    "plt.title(\"Training and Validation Accuracy\")\n",
    "plt.legend(labels=['Train acc', 'Val acc'])\n",
    "\n",
    "plt.show()"
   ]
  },
  {
   "cell_type": "code",
   "execution_count": 30,
   "id": "d28f6702",
   "metadata": {
    "scrolled": true
   },
   "outputs": [
    {
     "name": "stdout",
     "output_type": "stream",
     "text": [
      "1537/1537 - 2s - loss: 1.4667 - accuracy: 0.7769\n",
      "[1.466726303100586, 0.7769392132759094]\n"
     ]
    }
   ],
   "source": [
    "results = model.evaluate(X_test,  y_test, verbose=2)\n",
    "\n",
    "print(results)"
   ]
  },
  {
   "cell_type": "markdown",
   "id": "db8f55e5",
   "metadata": {},
   "source": [
    "### 2-2. GlobalMaxPooling1D로 모델 돌려보기"
   ]
  },
  {
   "cell_type": "code",
   "execution_count": 31,
   "id": "2f55a59d",
   "metadata": {},
   "outputs": [
    {
     "name": "stdout",
     "output_type": "stream",
     "text": [
      "Model: \"sequential_2\"\n",
      "_________________________________________________________________\n",
      "Layer (type)                 Output Shape              Param #   \n",
      "=================================================================\n",
      "embedding_2 (Embedding)      (None, None, 30)          300000    \n",
      "_________________________________________________________________\n",
      "global_max_pooling1d_1 (Glob (None, 30)                0         \n",
      "_________________________________________________________________\n",
      "dense_4 (Dense)              (None, 8)                 248       \n",
      "_________________________________________________________________\n",
      "dense_5 (Dense)              (None, 1)                 9         \n",
      "=================================================================\n",
      "Total params: 300,257\n",
      "Trainable params: 300,257\n",
      "Non-trainable params: 0\n",
      "_________________________________________________________________\n"
     ]
    }
   ],
   "source": [
    "model = tf.keras.Sequential()\n",
    "model.add(tf.keras.layers.Embedding(vocab_size, word_vector_dim, input_shape=(None,)))\n",
    "model.add(tf.keras.layers.GlobalMaxPooling1D())\n",
    "model.add(tf.keras.layers.Dense(8, activation='relu'))\n",
    "model.add(tf.keras.layers.Dense(1, activation='sigmoid'))  # 최종 출력은 긍정/부정을 나타내는 1dim 입니다.\n",
    "\n",
    "model.summary()"
   ]
  },
  {
   "cell_type": "code",
   "execution_count": 32,
   "id": "1d639814",
   "metadata": {},
   "outputs": [],
   "source": [
    "model.compile(optimizer='adam',\n",
    "              loss='binary_crossentropy',\n",
    "              metrics=['accuracy'])"
   ]
  },
  {
   "cell_type": "code",
   "execution_count": 33,
   "id": "7021f4ec",
   "metadata": {},
   "outputs": [
    {
     "name": "stdout",
     "output_type": "stream",
     "text": [
      "Epoch 1/20\n",
      "286/286 [==============================] - 2s 4ms/step - loss: 0.5307 - accuracy: 0.7688 - val_loss: 0.3664 - val_accuracy: 0.8488\n",
      "Epoch 2/20\n",
      "286/286 [==============================] - 1s 4ms/step - loss: 0.3486 - accuracy: 0.8505 - val_loss: 0.3000 - val_accuracy: 0.8756\n",
      "Epoch 3/20\n",
      "286/286 [==============================] - 1s 4ms/step - loss: 0.3067 - accuracy: 0.8699 - val_loss: 0.2687 - val_accuracy: 0.8919\n",
      "Epoch 4/20\n",
      "286/286 [==============================] - 1s 4ms/step - loss: 0.2812 - accuracy: 0.8834 - val_loss: 0.2460 - val_accuracy: 0.9027\n",
      "Epoch 5/20\n",
      "286/286 [==============================] - 1s 4ms/step - loss: 0.2610 - accuracy: 0.8935 - val_loss: 0.2270 - val_accuracy: 0.9126\n",
      "Epoch 6/20\n",
      "286/286 [==============================] - 1s 4ms/step - loss: 0.2438 - accuracy: 0.9013 - val_loss: 0.2104 - val_accuracy: 0.9202\n",
      "Epoch 7/20\n",
      "286/286 [==============================] - 1s 4ms/step - loss: 0.2280 - accuracy: 0.9093 - val_loss: 0.1951 - val_accuracy: 0.9281\n",
      "Epoch 8/20\n",
      "286/286 [==============================] - 1s 4ms/step - loss: 0.2133 - accuracy: 0.9162 - val_loss: 0.1814 - val_accuracy: 0.9345\n",
      "Epoch 9/20\n",
      "286/286 [==============================] - 1s 4ms/step - loss: 0.1994 - accuracy: 0.9233 - val_loss: 0.1673 - val_accuracy: 0.9409\n",
      "Epoch 10/20\n",
      "286/286 [==============================] - 1s 4ms/step - loss: 0.1862 - accuracy: 0.9296 - val_loss: 0.1548 - val_accuracy: 0.9462\n",
      "Epoch 11/20\n",
      "286/286 [==============================] - 1s 4ms/step - loss: 0.1742 - accuracy: 0.9353 - val_loss: 0.1435 - val_accuracy: 0.9521\n",
      "Epoch 12/20\n",
      "286/286 [==============================] - 1s 4ms/step - loss: 0.1623 - accuracy: 0.9412 - val_loss: 0.1330 - val_accuracy: 0.9565\n",
      "Epoch 13/20\n",
      "286/286 [==============================] - 1s 4ms/step - loss: 0.1517 - accuracy: 0.9459 - val_loss: 0.1235 - val_accuracy: 0.9598\n",
      "Epoch 14/20\n",
      "286/286 [==============================] - 1s 4ms/step - loss: 0.1419 - accuracy: 0.9502 - val_loss: 0.1149 - val_accuracy: 0.9636\n",
      "Epoch 15/20\n",
      "286/286 [==============================] - 1s 4ms/step - loss: 0.1332 - accuracy: 0.9533 - val_loss: 0.1067 - val_accuracy: 0.9672\n",
      "Epoch 16/20\n",
      "286/286 [==============================] - 1s 4ms/step - loss: 0.1247 - accuracy: 0.9573 - val_loss: 0.0997 - val_accuracy: 0.9687\n",
      "Epoch 17/20\n",
      "286/286 [==============================] - 1s 4ms/step - loss: 0.1167 - accuracy: 0.9605 - val_loss: 0.0936 - val_accuracy: 0.9719\n",
      "Epoch 18/20\n",
      "286/286 [==============================] - 1s 4ms/step - loss: 0.1100 - accuracy: 0.9632 - val_loss: 0.0873 - val_accuracy: 0.9742\n",
      "Epoch 19/20\n",
      "286/286 [==============================] - 1s 4ms/step - loss: 0.1036 - accuracy: 0.9659 - val_loss: 0.0817 - val_accuracy: 0.9764\n",
      "Epoch 20/20\n",
      "286/286 [==============================] - 1s 4ms/step - loss: 0.0977 - accuracy: 0.9679 - val_loss: 0.0766 - val_accuracy: 0.9775\n"
     ]
    }
   ],
   "source": [
    "history = model.fit(X_train,\n",
    "                    y_train,\n",
    "                    epochs=20,\n",
    "                    batch_size=512,\n",
    "                    validation_data=(X_val, y_val),\n",
    "                    verbose=1)"
   ]
  },
  {
   "cell_type": "code",
   "execution_count": 34,
   "id": "83151d9c",
   "metadata": {},
   "outputs": [
    {
     "data": {
      "image/png": "[encoded data removed]",
      "text/plain": [
       "<Figure size 1080x576 with 2 Axes>"
      ]
     },
     "metadata": {
      "needs_background": "light"
     },
     "output_type": "display_data"
    }
   ],
   "source": [
    "history_dict = history.history\n",
    "\n",
    "acc = history_dict['accuracy']\n",
    "val_acc = history_dict['val_accuracy']\n",
    "loss = history_dict['loss']\n",
    "val_loss = history_dict['val_loss']\n",
    "\n",
    "epochs = range(1, len(acc) + 1)\n",
    "\n",
    "\n",
    "plt.figure(figsize=(15, 8))\n",
    "plt.subplot(2, 2, 1)\n",
    "sns.lineplot(x=epochs, y=loss, color='r', linestyle='--', marker='o')\n",
    "sns.lineplot(x=epochs, y=val_loss, color='b', linestyle='-', marker='o')\n",
    "plt.xlabel(\"epochs\")\n",
    "plt.ylabel(\"loss\")\n",
    "plt.title(\"Training and Validation Loss\")\n",
    "plt.legend(labels=['Train loss', 'Val loss'])\n",
    "\n",
    "plt.subplot(2, 2, 2)\n",
    "sns.lineplot(x=epochs, y=acc, color='r', linestyle='--', marker='o')\n",
    "sns.lineplot(x=epochs, y=val_acc, color='b', linestyle='-', marker='o')\n",
    "plt.xlabel(\"epochs\")\n",
    "plt.ylabel(\"acc\")\n",
    "plt.title(\"Training and Validation Accuracy\")\n",
    "plt.legend(labels=['Train acc', 'Val acc'])\n",
    "\n",
    "plt.show()"
   ]
  },
  {
   "cell_type": "code",
   "execution_count": 35,
   "id": "12f4e1ea",
   "metadata": {},
   "outputs": [
    {
     "name": "stdout",
     "output_type": "stream",
     "text": [
      "1537/1537 - 2s - loss: 0.6342 - accuracy: 0.8216\n",
      "[0.634221076965332, 0.8215920329093933]\n"
     ]
    }
   ],
   "source": [
    "results = model.evaluate(X_test,  y_test, verbose=2)\n",
    "\n",
    "print(results)"
   ]
  },
  {
   "cell_type": "markdown",
   "id": "58b347d7",
   "metadata": {},
   "source": [
    "### Word2Vec 사용하기\n",
    "\n",
    "```bash\n",
    "aiffel\n",
    "└── sentiment_classification\n",
    "    ├── project08.ipynb   <─ I am here\n",
    "    └── data\n",
    "        ├── ratings_test.txt\n",
    "        ├── ratings_train.txt\n",
    "        ├── word2vec_ko.model                          <─ word2vec\n",
    "        ├── word2vec_ko.model.trainables.syn1neg.npy   <─ word2vec\n",
    "        └── word2vec_ko.model.wv.vectors.npy           <─ word2vec\n",
    "```"
   ]
  },
  {
   "cell_type": "code",
   "execution_count": 36,
   "id": "17763085",
   "metadata": {},
   "outputs": [],
   "source": [
    "from gensim.models.keyedvectors import Word2VecKeyedVectors\n",
    "word_vectors = Word2VecKeyedVectors.load('data/word2vec_ko.model')\n",
    "vector = word_vectors.wv['영화']"
   ]
  },
  {
   "cell_type": "code",
   "execution_count": 54,
   "id": "14ac94b2",
   "metadata": {},
   "outputs": [
    {
     "name": "stdout",
     "output_type": "stream",
     "text": [
      "Model: \"sequential_8\"\n",
      "_________________________________________________________________\n",
      "Layer (type)                 Output Shape              Param #   \n",
      "=================================================================\n",
      "embedding_5 (Embedding)      (None, 30, 100)           1000100   \n",
      "_________________________________________________________________\n",
      "conv1d_6 (Conv1D)            (None, 27, 16)            6416      \n",
      "_________________________________________________________________\n",
      "max_pooling1d_3 (MaxPooling1 (None, 5, 16)             0         \n",
      "_________________________________________________________________\n",
      "conv1d_7 (Conv1D)            (None, 2, 16)             1040      \n",
      "_________________________________________________________________\n",
      "global_max_pooling1d_3 (Glob (None, 16)                0         \n",
      "_________________________________________________________________\n",
      "dense_8 (Dense)              (None, 8)                 136       \n",
      "_________________________________________________________________\n",
      "dense_9 (Dense)              (None, 1)                 9         \n",
      "=================================================================\n",
      "Total params: 1,007,701\n",
      "Trainable params: 1,007,701\n",
      "Non-trainable params: 0\n",
      "_________________________________________________________________\n"
     ]
    }
   ],
   "source": [
    "# 사전 학습된 임베딩 벡터는 차원이 100입니다.\n",
    "vocab_size = 10001\n",
    "word_vector_dim = 100\n",
    "embedding_matrix = np.random.rand(vocab_size, word_vector_dim) # 사전학습 벡터를 복사할 더미를 만듭니다.\n",
    "\n",
    "# embedding_matrix에 Word2Vec 워드 벡터를 단어 하나씩 차례대로 카피합니다.\n",
    "for i in range(4, vocab_size):\n",
    "    if index_to_word[i] in word_vectors.wv:\n",
    "        embedding_matrix[i] = word_vectors.wv[index_to_word[i]]\n",
    "    \n",
    "\n",
    "# 모델 구성\n",
    "model = tf.keras.Sequential()\n",
    "model.add(tf.keras.layers.Embedding(vocab_size,\n",
    "                                    word_vector_dim,\n",
    "                                    embeddings_initializer=tf.keras.initializers.Constant(embedding_matrix),\n",
    "                                    input_length=30,\n",
    "                                    trainable=True)) # trainable=True로 주면 Fine-tuning\n",
    "model.add(tf.keras.layers.Conv1D(16, 4, activation='relu'))\n",
    "model.add(tf.keras.layers.MaxPooling1D(5))\n",
    "model.add(tf.keras.layers.Conv1D(16, 4, activation='relu'))\n",
    "model.add(tf.keras.layers.GlobalMaxPooling1D())\n",
    "model.add(tf.keras.layers.Dense(8, activation='relu'))\n",
    "model.add(tf.keras.layers.Dense(1, activation='sigmoid'))\n",
    "        \n",
    "model.summary()"
   ]
  },
  {
   "cell_type": "code",
   "execution_count": 49,
   "id": "57f15621",
   "metadata": {},
   "outputs": [],
   "source": [
    "model.compile(optimizer='adam',\n",
    "              loss='binary_crossentropy',\n",
    "              metrics=['accuracy'])"
   ]
  },
  {
   "cell_type": "code",
   "execution_count": 50,
   "id": "47d9765f",
   "metadata": {},
   "outputs": [
    {
     "name": "stdout",
     "output_type": "stream",
     "text": [
      "Epoch 1/20\n",
      "286/286 [==============================] - 3s 6ms/step - loss: 0.6349 - accuracy: 0.6184 - val_loss: 0.5498 - val_accuracy: 0.7119\n",
      "Epoch 2/20\n",
      "286/286 [==============================] - 2s 5ms/step - loss: 0.5126 - accuracy: 0.7410 - val_loss: 0.4604 - val_accuracy: 0.7774\n",
      "Epoch 3/20\n",
      "286/286 [==============================] - 2s 5ms/step - loss: 0.4469 - accuracy: 0.7873 - val_loss: 0.4092 - val_accuracy: 0.8103\n",
      "Epoch 4/20\n",
      "286/286 [==============================] - 1s 5ms/step - loss: 0.4084 - accuracy: 0.8095 - val_loss: 0.3783 - val_accuracy: 0.8284\n",
      "Epoch 5/20\n",
      "286/286 [==============================] - 2s 5ms/step - loss: 0.3828 - accuracy: 0.8256 - val_loss: 0.3572 - val_accuracy: 0.8389\n",
      "Epoch 6/20\n",
      "286/286 [==============================] - 2s 5ms/step - loss: 0.3636 - accuracy: 0.8357 - val_loss: 0.3400 - val_accuracy: 0.8494\n",
      "Epoch 7/20\n",
      "286/286 [==============================] - 1s 5ms/step - loss: 0.3484 - accuracy: 0.8440 - val_loss: 0.3256 - val_accuracy: 0.8556\n",
      "Epoch 8/20\n",
      "286/286 [==============================] - 2s 5ms/step - loss: 0.3353 - accuracy: 0.8501 - val_loss: 0.3134 - val_accuracy: 0.8627\n",
      "Epoch 9/20\n",
      "286/286 [==============================] - 2s 5ms/step - loss: 0.3241 - accuracy: 0.8557 - val_loss: 0.3032 - val_accuracy: 0.8679\n",
      "Epoch 10/20\n",
      "286/286 [==============================] - 2s 5ms/step - loss: 0.3130 - accuracy: 0.8625 - val_loss: 0.2925 - val_accuracy: 0.8729\n",
      "Epoch 11/20\n",
      "286/286 [==============================] - 2s 5ms/step - loss: 0.3025 - accuracy: 0.8681 - val_loss: 0.2846 - val_accuracy: 0.8768\n",
      "Epoch 12/20\n",
      "286/286 [==============================] - 2s 5ms/step - loss: 0.2937 - accuracy: 0.8721 - val_loss: 0.2729 - val_accuracy: 0.8822\n",
      "Epoch 13/20\n",
      "286/286 [==============================] - 1s 5ms/step - loss: 0.2845 - accuracy: 0.8769 - val_loss: 0.2637 - val_accuracy: 0.8895\n",
      "Epoch 14/20\n",
      "286/286 [==============================] - 2s 5ms/step - loss: 0.2751 - accuracy: 0.8822 - val_loss: 0.2547 - val_accuracy: 0.8931\n",
      "Epoch 15/20\n",
      "286/286 [==============================] - 2s 5ms/step - loss: 0.2669 - accuracy: 0.8865 - val_loss: 0.2485 - val_accuracy: 0.8969\n",
      "Epoch 16/20\n",
      "286/286 [==============================] - 2s 5ms/step - loss: 0.2582 - accuracy: 0.8908 - val_loss: 0.2377 - val_accuracy: 0.9018\n",
      "Epoch 17/20\n",
      "286/286 [==============================] - 2s 5ms/step - loss: 0.2490 - accuracy: 0.8956 - val_loss: 0.2283 - val_accuracy: 0.9063\n",
      "Epoch 18/20\n",
      "286/286 [==============================] - 2s 5ms/step - loss: 0.2403 - accuracy: 0.9002 - val_loss: 0.2225 - val_accuracy: 0.9070\n",
      "Epoch 19/20\n",
      "286/286 [==============================] - 1s 5ms/step - loss: 0.2318 - accuracy: 0.9040 - val_loss: 0.2113 - val_accuracy: 0.9139\n",
      "Epoch 20/20\n",
      "286/286 [==============================] - 1s 5ms/step - loss: 0.2223 - accuracy: 0.9087 - val_loss: 0.2015 - val_accuracy: 0.9193\n"
     ]
    }
   ],
   "source": [
    "history = model.fit(X_train,\n",
    "                    y_train,\n",
    "                    epochs=20,\n",
    "                    batch_size=512,\n",
    "                    validation_data=(X_val, y_val),\n",
    "                    verbose=1)"
   ]
  },
  {
   "cell_type": "code",
   "execution_count": 51,
   "id": "56cc43bd",
   "metadata": {
    "scrolled": true
   },
   "outputs": [
    {
     "data": {
      "image/png": "[encoded data removed]",
      "text/plain": [
       "<Figure size 1080x576 with 2 Axes>"
      ]
     },
     "metadata": {
      "needs_background": "light"
     },
     "output_type": "display_data"
    }
   ],
   "source": [
    "history_dict = history.history\n",
    "\n",
    "acc = history_dict['accuracy']\n",
    "val_acc = history_dict['val_accuracy']\n",
    "loss = history_dict['loss']\n",
    "val_loss = history_dict['val_loss']\n",
    "\n",
    "epochs = range(1, len(acc) + 1)\n",
    "\n",
    "\n",
    "plt.figure(figsize=(15, 8))\n",
    "plt.subplot(2, 2, 1)\n",
    "sns.lineplot(x=epochs, y=loss, color='r', linestyle='--', marker='o')\n",
    "sns.lineplot(x=epochs, y=val_loss, color='b', linestyle='-', marker='o')\n",
    "plt.xlabel(\"epochs\")\n",
    "plt.ylabel(\"loss\")\n",
    "plt.title(\"Training and Validation Loss\")\n",
    "plt.legend(labels=['Train loss', 'Val loss'])\n",
    "\n",
    "plt.subplot(2, 2, 2)\n",
    "sns.lineplot(x=epochs, y=acc, color='r', linestyle='--', marker='o')\n",
    "sns.lineplot(x=epochs, y=val_acc, color='b', linestyle='-', marker='o')\n",
    "plt.xlabel(\"epochs\")\n",
    "plt.ylabel(\"acc\")\n",
    "plt.title(\"Training and Validation Accuracy\")\n",
    "plt.legend(labels=['Train acc', 'Val acc'])\n",
    "\n",
    "plt.show()"
   ]
  },
  {
   "cell_type": "code",
   "execution_count": 52,
   "id": "4663e472",
   "metadata": {},
   "outputs": [
    {
     "name": "stdout",
     "output_type": "stream",
     "text": [
      "1537/1537 - 3s - loss: 0.5090 - accuracy: 0.8030\n",
      "[0.5089560151100159, 0.8029578924179077]\n"
     ]
    }
   ],
   "source": [
    "results = model.evaluate(X_test,  y_test, verbose=2)\n",
    "\n",
    "print(results)"
   ]
  },
  {
   "cell_type": "code",
   "execution_count": null,
   "id": "8f90f347",
   "metadata": {},
   "outputs": [],
   "source": []
  }
 ],
 "metadata": {
  "kernelspec": {
   "display_name": "Python 3 (ipykernel)",
   "language": "python",
   "name": "python3"
  },
  "language_info": {
   "codemirror_mode": {
    "name": "ipython",
    "version": 3
   },
   "file_extension": ".py",
   "mimetype": "text/x-python",
   "name": "python",
   "nbconvert_exporter": "python",
   "pygments_lexer": "ipython3",
   "version": "3.9.7"
  }
 },
 "nbformat": 4,
 "nbformat_minor": 5
}
